{
 "cells": [
  {
   "cell_type": "code",
   "execution_count": 1,
   "id": "c1dbbcd7",
   "metadata": {},
   "outputs": [],
   "source": [
    "import requests"
   ]
  },
  {
   "cell_type": "code",
   "execution_count": 2,
   "id": "c61a0681",
   "metadata": {},
   "outputs": [],
   "source": [
    "headers = {\"Content-Type\": \"application/json\"}"
   ]
  },
  {
   "cell_type": "code",
   "execution_count": 3,
   "id": "524ea80e",
   "metadata": {},
   "outputs": [],
   "source": [
    "model= \"deepseek-r1:1.5b\""
   ]
  },
  {
   "cell_type": "code",
   "execution_count": 4,
   "id": "863c7f68",
   "metadata": {},
   "outputs": [],
   "source": [
    "user_prompt = \"Python is a high-level, interpreted programming language that has become one of the most popular and widely used languages in the world. Created by Guido van Rossum and first released in 1991, Python was designed with an emphasis on code readability and simplicity, allowing developers to write clear and logical code for both small and large-scale projects. Its syntax is often described as elegant and concise, which makes it especially attractive to beginners while remaining powerful enough for seasoned developers. One of the key strengths of Python lies in its extensive standard library and the vast ecosystem of third-party packages available through the Python Package Index (PyPI). Whether you're developing web applications using frameworks like Django and Flask, analyzing data with libraries like NumPy and Pandas, performing machine learning with TensorFlow and scikit-learn, or automating repetitive tasks using simple scripts, Python offers robust solutions for virtually every domain. Moreover, Python is platform-independent and has strong support for integration with other languages and technologies, making it ideal for building complex, cross-platform applications. The active Python community continues to contribute to its growth by developing tools, resources, and documentation that make learning and using Python even easier. With its blend of versatility, efficiency, and community support, Python remains a dominant force in both the academic and professional software development landscapes.\""
   ]
  },
  {
   "cell_type": "code",
   "execution_count": 5,
   "id": "a985a006",
   "metadata": {},
   "outputs": [],
   "source": [
    "system_prompt = \"summarize\""
   ]
  },
  {
   "cell_type": "code",
   "execution_count": 6,
   "id": "208b1351",
   "metadata": {},
   "outputs": [],
   "source": [
    "payload = {\n",
    "        \"model\": \"deepseek-r1:1.5b\",\n",
    "        \"messages\": [\n",
    "            {\"role\": \"system\", \"content\": system_prompt},\n",
    "            {\"role\": \"user\", \"content\": user_prompt}\n",
    "        ]\n",
    "}"
   ]
  },
  {
   "cell_type": "code",
   "execution_count": 7,
   "id": "72fac13b",
   "metadata": {},
   "outputs": [],
   "source": [
    "response = requests.post(\"http://localhost:11434/v1/chat/completions\", json=payload, headers=headers)"
   ]
  },
  {
   "cell_type": "code",
   "execution_count": 8,
   "id": "b4f88254",
   "metadata": {},
   "outputs": [
    {
     "name": "stdout",
     "output_type": "stream",
     "text": [
      "<think>\n",
      "Okay, so I just read this summary about Python and got really excited because it was helpful to know some things about programming languages. But now I'm trying to figure out how to actually use Python for my projects. Let me think about how best to start learning and using Python when I don't have much experience yet.\n",
      "\n",
      "Hmm, first off, they mentioned that Python is a high-level language with an interpreted nature. That makes sense because it's supposed to be faster than lower-level languages like C++. But wait, does being high-level also mean less code? The summary also says it's designed for readability and simplicity, which I guess means it's easier to read but could take longer to learn.\n",
      "\n",
      "They talked about its syntax, described as elegant. Yeah, right, Python's syntax can be a bit tricky at first because of things like if statements where the indentation matters. For example, `if x > 0: print(\"Positive\")` — the colon after \"print\" is part of the indented block.\n",
      "\n",
      "The ecosystem with many libraries was another key point. I know when I built my first web app using Flask and Django, I thought Python would be too bulky or complicated to manage all the dependencies manually. Maybe that's why there are so many packages available. So, knowing that I can add other libraries quickly is a big plus.\n",
      "\n",
      "They mentioned it being platform-independent. Like, I could use Python on Windows, Linux, macOS, etc., which is really convenient since none of my projects rely on cross-platform-specific tools like .NET.\n",
      "\n",
      "Active community support is another advantage. That means there's a lot of resources available for learning and troubleshooting if something goes wrong. The PyPI link suggests looking up documentation about any library I haven't tried before.\n",
      "\n",
      "Moving forward, the first step would be to download Python from its website. Let me check their site: [Insert Link]. Since they're based in Amsterdam, maybe their site is a bit formal but good enough for me. No need for much hassle since it's straightforward.\n",
      "\n",
      "Looking at the documentation section on the PyPI page might be really helpful. I've heard of scikit-learn and pandas before as libraries, but how do you import them into my Python project? The examples given in their summary—like importing a file directly or using `pandas.read_csv()`—demonstrated how straightforward it is.\n",
      "\n",
      "Since they mention that code can be written with minimal indentation issues because Python is interpreted, I might start by writing simple if and else statements. Let's try this one: print(\"Hello World\"). That should work, right? I'll just type it into the Python console in my browser to see how it looks when run.\n",
      "\n",
      "I guess learning Python takes time, but every morning when I start coding at least 15-30 minutes seems like a good way to build up new skills. Maybe creating a simple web page using Flask would help, even if a lot of work is involved initially.\n",
      "\n",
      "Also, the documentation provided in their summary has many details that could be useful. If I ever need more advanced features or debugging tips, those resources should come in handy. Plus, I enjoy seeing how different libraries can improve my projects, like making data analysis easier with pandas.\n",
      "\n",
      "Overall, while Python seems intimidating at first, starting small and building up—whether it's a web app, doing some basic scripting, or just exploring the library functions—I feel confident to make progress. The active community definitely backs this up because I can find help when I get stuck, which makes learning a bit more enjoyable than trying to figure things out on my own alone.\n",
      "</think>\n",
      "\n",
      "To effectively learn and use Python, follow these structured steps for your initial projects:\n",
      "\n",
      "1. **Start with the Basics**: Begin by installing Python from its official website or reputable sellers.\n",
      "\n",
      "2. **Learn Syntax**: Focus on understanding simple syntax like `if` statements, paying attention to indentation details which reflect code structure.\n",
      "\n",
      "3. **Explore Libraries**: Install and familiarize yourself with packages such as scikit-learn and pandas, starting with `pandas.read_csv()` and importing modules easily through PyPI.\n",
      "\n",
      "4. **Use the Console**: Run your initial projects in your browser, using minimal indentation issues since Python is interpreted.\n",
      "\n",
      "5. **Create Simple Web Apps**: Start coding a web app with Flask or Django, even if complex, as it's flexible to manage dependencies.\n",
      "\n",
      "6. **Learn Through Examples**: Review the provided examples on PyPI: `[Insert Example](https://example.com)`.\n",
      "\n",
      "7. **Utilize Active Community Resources**: Visit documentation and tutorials available through the community for tips and detailed guidance.\n",
      "\n",
      "8. **Practice Regularly**: Develop skills by coding regularly, even small amounts starting from morning sessions.\n",
      "\n",
      "By following these steps, you'll gradually build confidence in Python, making progress towards more complex projects smoothly.\n"
     ]
    }
   ],
   "source": [
    "a=response.json()['choices'][0]['message']['content']\n",
    "print(a)"
   ]
  }
 ],
 "metadata": {
  "kernelspec": {
   "display_name": "base",
   "language": "python",
   "name": "python3"
  },
  "language_info": {
   "codemirror_mode": {
    "name": "ipython",
    "version": 3
   },
   "file_extension": ".py",
   "mimetype": "text/x-python",
   "name": "python",
   "nbconvert_exporter": "python",
   "pygments_lexer": "ipython3",
   "version": "3.12.7"
  }
 },
 "nbformat": 4,
 "nbformat_minor": 5
}
