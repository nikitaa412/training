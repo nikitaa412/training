{
 "cells": [
  {
   "cell_type": "code",
   "execution_count": 1,
   "id": "00f26a1f",
   "metadata": {},
   "outputs": [],
   "source": [
    "import requests"
   ]
  },
  {
   "cell_type": "code",
   "execution_count": 2,
   "id": "50a6a3f6",
   "metadata": {},
   "outputs": [],
   "source": [
    "headers = {\"Content-Type\": \"application/json\"}"
   ]
  },
  {
   "cell_type": "code",
   "execution_count": 3,
   "id": "8e19406a",
   "metadata": {},
   "outputs": [],
   "source": [
    "model= \"llama3.2-vision:11b\""
   ]
  },
  {
   "cell_type": "code",
   "execution_count": 4,
   "id": "1742e004",
   "metadata": {},
   "outputs": [],
   "source": [
    "# user_prompt = \"Python is a high-level, interpreted programming language that has become one of the most popular and widely used languages in the world. Created by Guido van Rossum and first released in 1991, Python was designed with an emphasis on code readability and simplicity, allowing developers to write clear and logical code for both small and large-scale projects. Its syntax is often described as elegant and concise, which makes it especially attractive to beginners while remaining powerful enough for seasoned developers. One of the key strengths of Python lies in its extensive standard library and the vast ecosystem of third-party packages available through the Python Package Index (PyPI). Whether you're developing web applications using frameworks like Django and Flask, analyzing data with libraries like NumPy and Pandas, performing machine learning with TensorFlow and scikit-learn, or automating repetitive tasks using simple scripts, Python offers robust solutions for virtually every domain. Moreover, Python is platform-independent and has strong support for integration with other languages and technologies, making it ideal for building complex, cross-platform applications. The active Python community continues to contribute to its growth by developing tools, resources, and documentation that make learning and using Python even easier. With its blend of versatility, efficiency, and community support, Python remains a dominant force in both the academic and professional software development landscapes.\""
   ]
  },
  {
   "cell_type": "code",
   "execution_count": 5,
   "id": "f11c5225",
   "metadata": {},
   "outputs": [],
   "source": [
    "user_prompt_1 = \"Please generate test cases for chatbot and text summarizing agent\""
   ]
  },
  {
   "cell_type": "code",
   "execution_count": 6,
   "id": "20ce0a9b",
   "metadata": {},
   "outputs": [],
   "source": [
    "# system_prompt = \"you're a best summarizing agent, please summarize the given text. PLease give 2 lines with 20 words\""
   ]
  },
  {
   "cell_type": "code",
   "execution_count": 7,
   "id": "3556d643",
   "metadata": {},
   "outputs": [],
   "source": [
    "# system_prompt_1 = \"You are the greatest test case generator in software applications.\""
   ]
  },
  {
   "cell_type": "code",
   "execution_count": 8,
   "id": "2bb3ff89",
   "metadata": {},
   "outputs": [],
   "source": [
    "system_prompt_2 = \"You are the greatest test case generator in software applications. format: test case number, description, followed by a python code. test case number format: roman numeral.\""
   ]
  },
  {
   "cell_type": "code",
   "execution_count": 9,
   "id": "8332e5bb",
   "metadata": {},
   "outputs": [],
   "source": [
    "payload = {\n",
    "        \"model\": \"llama3.2-vision:11b\",\n",
    "        \"messages\": [\n",
    "            {\"role\": \"system\", \"content\": system_prompt_2},\n",
    "            {\"role\": \"user\", \"content\": user_prompt_1}\n",
    "        ]\n",
    "}"
   ]
  },
  {
   "cell_type": "code",
   "execution_count": 10,
   "id": "aef050c9",
   "metadata": {},
   "outputs": [],
   "source": [
    "response = requests.post(\"http://localhost:11434/v1/chat/completions\", json=payload, headers=headers)"
   ]
  },
  {
   "cell_type": "code",
   "execution_count": 11,
   "id": "69ce9f8d",
   "metadata": {},
   "outputs": [
    {
     "name": "stdout",
     "output_type": "stream",
     "text": [
      "Here are some test cases for a chatbot and text summarizing agent:\n",
      "\n",
      "**I. Greeting Test Cases**\n",
      "\n",
      "1. **Rom I**: User initiates conversation with \"Hello\"\n",
      "\t* Python Code:\n",
      "\t\t+ user_input = \"hello\"\n",
      "\t\t+ expected_output = \"Hi! How can I assist you today?\"\n",
      "\t\t+ result = chatbot_process(user_input)\n",
      "2. **Rom II**: User sends greeting in different language\n",
      "\t* Python Code:\n",
      "\t\t+ user_input = \"Bonjour\"\n",
      "\t\t+ expected_output = \"Hello! How can I help you today?\"\n",
      "\t\t+ result = chatbot_process(user_input)\n",
      "\n",
      "**II. Text Summarization Test Cases**\n",
      "\n",
      "3. **Rom III**: Short text with key points (1-2 sentences)\n",
      "\t* Python Code:\n",
      "\t\t+ user_input = \"This is a short text with some key points.\"\n",
      "\t\t+ expected_output = Summary object with highlighted key points\n",
      "\t\t+ result = summarize_text(user_input)\n",
      "4. **Rom IV**: Long text without clear summary (3-5 paragraphs)\n",
      "\t* Python Code:\n",
      "\t\t+ user_input = multi_paragraph_text\n",
      "\t\t+ expected_output = Summary object with general summary and extracted keywords\n",
      "\t\t+ result = summarize_text(user_input)\n",
      "\n",
      "**III. Entity Recognition Test Cases**\n",
      "\n",
      "5. **Rom V**: User mentions person's name, company, location\n",
      "\t* Python Code:\n",
      "\t\t+ user_input = \"I work at Google in New York\"\n",
      "\t\t+ expected_output = entities_detected object with extracted entity types (Person, Organization, Location)\n",
      "\t\t+ result = extract_entities(user_input)\n",
      "6. **Rom VI**: User asks about product details (brand, model)\n",
      "\t* Python Code:\n",
      "\t\t+ user_input = \"What is the specifications of iPhone 13?\"\n",
      "\t\t+ expected_output = entities_detected object with extracted entity types (Product, Feature)\n",
      "\t\t+ result = extract_entities(user_input)\n",
      "\n",
      "**IV. Intent Detection Test Cases**\n",
      "\n",
      "7. **Rom VII**: User expresses strong opinion or sentiment\n",
      "\t* Python Code:\n",
      "\t\t+ user_input = \"I love the new movie!\"\n",
      "\t\t+ expected_output = intent_confidence object with high sentiment detection confidence\n",
      "\t\t+ result = detect_intent(user_input)\n",
      "8. **Rom VIII**: User requests information on specific topic\n",
      "\t* Python Code:\n",
      "\t\t+ user_input = \"What are the health benefits of meditation?\"\n",
      "\t\t+ expected_output = intent_confidence object with high likelihood of informational request\n",
      "\t\t+ result = detect_intent(user_input)\n",
      "\n",
      "**V. Error Handling Test Cases**\n",
      "\n",
      "9. **Rom IX**: User sends abusive or off-topic message\n",
      "\t* Python Code:\n",
      "\t\t - user_input = \"You are so annoying and irrelevant\"\n",
      "\t\t - expected_output = error_message object with human moderator contact information\n",
      "\t\t - result = handle_error(user_input)\n",
      "10. **Rom X**: User requests information on unsupported topic\n",
      "\t- user_input = \"What is the weather like in Pluto?\"\n",
      "\t- expected_output = error_message object suggesting nearest supported location or providing additional resources\n"
     ]
    }
   ],
   "source": [
    "a=response.json()['choices'][0]['message']['content']\n",
    "print(a)"
   ]
  },
  {
   "cell_type": "code",
   "execution_count": null,
   "id": "f29d3996",
   "metadata": {},
   "outputs": [],
   "source": []
  },
  {
   "cell_type": "code",
   "execution_count": null,
   "id": "1f27241c",
   "metadata": {},
   "outputs": [],
   "source": []
  },
  {
   "cell_type": "code",
   "execution_count": null,
   "id": "39fe8a0e",
   "metadata": {},
   "outputs": [],
   "source": []
  },
  {
   "cell_type": "code",
   "execution_count": null,
   "id": "8a8b6f82",
   "metadata": {},
   "outputs": [],
   "source": []
  },
  {
   "cell_type": "code",
   "execution_count": null,
   "id": "303c6631",
   "metadata": {},
   "outputs": [],
   "source": []
  },
  {
   "cell_type": "code",
   "execution_count": null,
   "id": "dd2b5fa3",
   "metadata": {},
   "outputs": [],
   "source": []
  },
  {
   "cell_type": "code",
   "execution_count": null,
   "id": "37a35670",
   "metadata": {},
   "outputs": [],
   "source": []
  },
  {
   "cell_type": "code",
   "execution_count": null,
   "id": "eb717cfa",
   "metadata": {},
   "outputs": [],
   "source": []
  },
  {
   "cell_type": "code",
   "execution_count": null,
   "id": "bb64cf93",
   "metadata": {},
   "outputs": [],
   "source": []
  },
  {
   "cell_type": "code",
   "execution_count": null,
   "id": "b46c83e8",
   "metadata": {},
   "outputs": [],
   "source": []
  },
  {
   "cell_type": "code",
   "execution_count": null,
   "id": "757a5e12",
   "metadata": {},
   "outputs": [],
   "source": []
  },
  {
   "cell_type": "code",
   "execution_count": null,
   "id": "fdef2bc2",
   "metadata": {},
   "outputs": [],
   "source": []
  },
  {
   "cell_type": "code",
   "execution_count": null,
   "id": "464d75de",
   "metadata": {},
   "outputs": [],
   "source": []
  },
  {
   "cell_type": "code",
   "execution_count": null,
   "id": "ab2109b0",
   "metadata": {},
   "outputs": [],
   "source": []
  },
  {
   "cell_type": "code",
   "execution_count": null,
   "id": "bbdbd398",
   "metadata": {},
   "outputs": [],
   "source": []
  },
  {
   "cell_type": "code",
   "execution_count": null,
   "id": "873e1b30",
   "metadata": {},
   "outputs": [],
   "source": []
  },
  {
   "cell_type": "code",
   "execution_count": null,
   "id": "f1b30219",
   "metadata": {},
   "outputs": [],
   "source": []
  }
 ],
 "metadata": {
  "kernelspec": {
   "display_name": "base",
   "language": "python",
   "name": "python3"
  },
  "language_info": {
   "codemirror_mode": {
    "name": "ipython",
    "version": 3
   },
   "file_extension": ".py",
   "mimetype": "text/x-python",
   "name": "python",
   "nbconvert_exporter": "python",
   "pygments_lexer": "ipython3",
   "version": "3.12.7"
  }
 },
 "nbformat": 4,
 "nbformat_minor": 5
}
