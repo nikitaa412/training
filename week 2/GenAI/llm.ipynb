{
 "cells": [
  {
   "cell_type": "code",
   "execution_count": 1,
   "id": "78f97aad",
   "metadata": {},
   "outputs": [],
   "source": [
    "import requests"
   ]
  },
  {
   "cell_type": "code",
   "execution_count": 2,
   "id": "e60b4a2f",
   "metadata": {},
   "outputs": [],
   "source": [
    "model = \"qwen2.5-coder:0.5b\""
   ]
  },
  {
   "cell_type": "code",
   "execution_count": 3,
   "id": "16a1f403",
   "metadata": {},
   "outputs": [],
   "source": [
    "prompt = 'what is llm?'"
   ]
  },
  {
   "cell_type": "code",
   "execution_count": 16,
   "id": "dd4832bd",
   "metadata": {},
   "outputs": [],
   "source": [
    "payload = {\n",
    "        \"model\": \"qwen2.5-coder:0.5b\",\n",
    "        \"messages\": [\n",
    "            {\"role\": \"system\", \"content\": \"You are a helpful assistant.\"},\n",
    "            {\"role\": \"user\", \"content\": prompt}\n",
    "        ]\n",
    "    }"
   ]
  },
  {
   "cell_type": "code",
   "execution_count": 17,
   "id": "460c030e",
   "metadata": {},
   "outputs": [],
   "source": [
    "response = requests.post(\"http://localhost:11434/v1/chat/completions\", json=payload)"
   ]
  },
  {
   "cell_type": "code",
   "execution_count": 18,
   "id": "06fced85",
   "metadata": {},
   "outputs": [],
   "source": [
    "a = response.json()['choices'][0]['message']['content']"
   ]
  },
  {
   "cell_type": "code",
   "execution_count": 19,
   "id": "01111e8e",
   "metadata": {},
   "outputs": [
    {
     "name": "stdout",
     "output_type": "stream",
     "text": [
      "LLM stands for Large Language Model, which is an artificial intelligence system designed to process and generate human-like text using training data. Here are some key aspects:\n",
      "\n",
      "1. **Processing Language**: Language models can understand and generate text from a vast amount of text sources.\n",
      "\n",
      "2. **Generation**: They can produce text based on rules or formulas defined in a programming language like Python, JavaScript, or even SQL.\n",
      "\n",
      "3. **Artificial Intelligence (AI)**: They are built using machine learning algorithms to learn and improve over time as new data becomes available.\n",
      "\n",
      "4. **Precision**: AI models aim to produce errors less than human error rates, which makes them reliable for complex tasks like generating reports or answering questions.\n",
      "\n",
      "5. **Reliability**: Many large language models are highly reliable and capable of accurately understanding and generating text even in the event of natural disasters or major incidents.\n",
      "\n",
      "6. **Versatility**: They can work with various types of input such as text, news articles, images, and more.\n",
      "\n",
      "7. **Ethical Considerations**: AI systems should be used responsibly to ensure human fairness while generating accurate and meaningful content.\n",
      "\n",
      "8. **Language Understanding**: They can understand common natural language expressions in the form of words, phrases, and sentences.\n",
      "\n",
      "9. **Accessibility**: Some AI models are designed with accessibility principles in mind, ensuring that they can respond effectively to diverse user needs, including those with disabilities.\n",
      "\n",
      "Understanding these concepts is crucial for developers and users who work with large language models, as they enable them to leverage AI's capabilities for tasks such as natural language processing, image generation, financial analysis, etc.\n"
     ]
    }
   ],
   "source": [
    "print(a)"
   ]
  },
  {
   "cell_type": "code",
   "execution_count": 4,
   "id": "13bc85e9",
   "metadata": {},
   "outputs": [],
   "source": [
    "messages = [\n",
    "            {\"role\": \"system\", \"content\": \"You are a helpful assistant.\"},\n",
    "            {\"role\": \"user\", \"content\": prompt}\n",
    "        ]"
   ]
  }
 ],
 "metadata": {
  "kernelspec": {
   "display_name": "base",
   "language": "python",
   "name": "python3"
  },
  "language_info": {
   "codemirror_mode": {
    "name": "ipython",
    "version": 3
   },
   "file_extension": ".py",
   "mimetype": "text/x-python",
   "name": "python",
   "nbconvert_exporter": "python",
   "pygments_lexer": "ipython3",
   "version": "3.12.7"
  }
 },
 "nbformat": 4,
 "nbformat_minor": 5
}
