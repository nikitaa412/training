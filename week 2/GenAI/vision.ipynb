{
 "cells": [
  {
   "cell_type": "code",
   "execution_count": 39,
   "id": "18fb297f",
   "metadata": {},
   "outputs": [],
   "source": [
    "import requests"
   ]
  },
  {
   "cell_type": "code",
   "execution_count": 40,
   "id": "cec2de44",
   "metadata": {},
   "outputs": [],
   "source": [
    "model: \"llama3.2-vision:11b\""
   ]
  },
  {
   "cell_type": "code",
   "execution_count": 51,
   "id": "d4e1940e",
   "metadata": {},
   "outputs": [],
   "source": [
    "prompt = \"ironman.jfif\" "
   ]
  },
  {
   "cell_type": "code",
   "execution_count": 52,
   "id": "f85f455d",
   "metadata": {},
   "outputs": [],
   "source": [
    "messages= [\n",
    "            {\"role\": \"system\", \"content\": \"You are a helpful assistant.\"},\n",
    "            {\"role\": \"user\", \"content\": prompt}\n",
    "        ]"
   ]
  },
  {
   "cell_type": "code",
   "execution_count": 53,
   "id": "59d28cb2",
   "metadata": {},
   "outputs": [],
   "source": [
    "headers = {\"Content-Type\": \"application/json\"}"
   ]
  },
  {
   "cell_type": "code",
   "execution_count": 54,
   "id": "71690df1",
   "metadata": {},
   "outputs": [],
   "source": [
    "model: \"llama3.2-vision:11b\""
   ]
  },
  {
   "cell_type": "code",
   "execution_count": 55,
   "id": "2f1cf34b",
   "metadata": {},
   "outputs": [],
   "source": [
    "prompt = \"ironman.fjif\" "
   ]
  },
  {
   "cell_type": "code",
   "execution_count": 57,
   "id": "73451aff",
   "metadata": {},
   "outputs": [],
   "source": [
    "payload = {\n",
    "        \"model\": \"llama3.2-vision:11b\",\n",
    "        \"messages\": [\n",
    "            {\"role\": \"system\", \"content\": \"You are a helpful assistant.\"},\n",
    "            {\"role\": \"user\", \"content\": prompt}\n",
    "        ]\n",
    "    }"
   ]
  },
  {
   "cell_type": "code",
   "execution_count": 58,
   "id": "51b45b90",
   "metadata": {},
   "outputs": [],
   "source": [
    "response = requests.post(\"http://localhost:11434/v1/chat/completions\", json=payload, headers=headers)"
   ]
  },
  {
   "cell_type": "code",
   "execution_count": 59,
   "id": "0fdef751",
   "metadata": {},
   "outputs": [
    {
     "data": {
      "text/plain": [
       "<Response [200]>"
      ]
     },
     "execution_count": 59,
     "metadata": {},
     "output_type": "execute_result"
    }
   ],
   "source": [
    "response"
   ]
  },
  {
   "cell_type": "code",
   "execution_count": 60,
   "id": "d50d792a",
   "metadata": {},
   "outputs": [],
   "source": [
    "res = response.json()['choices'][0]['message']['content']"
   ]
  },
  {
   "cell_type": "code",
   "execution_count": 61,
   "id": "84fcc833",
   "metadata": {},
   "outputs": [
    {
     "name": "stdout",
     "output_type": "stream",
     "text": [
      "It seems like you might have misspelled the word \"Iron Man\". Is there something specific you'd like to know or discuss about Tony Stark/Iron Man from Marvel?\n"
     ]
    }
   ],
   "source": [
    "print(res)"
   ]
  }
 ],
 "metadata": {
  "kernelspec": {
   "display_name": "base",
   "language": "python",
   "name": "python3"
  },
  "language_info": {
   "codemirror_mode": {
    "name": "ipython",
    "version": 3
   },
   "file_extension": ".py",
   "mimetype": "text/x-python",
   "name": "python",
   "nbconvert_exporter": "python",
   "pygments_lexer": "ipython3",
   "version": "3.12.7"
  }
 },
 "nbformat": 4,
 "nbformat_minor": 5
}
