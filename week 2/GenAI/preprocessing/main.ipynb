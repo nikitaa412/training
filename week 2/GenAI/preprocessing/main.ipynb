{
 "cells": [
  {
   "cell_type": "code",
   "execution_count": 7,
   "id": "e274ad35",
   "metadata": {},
   "outputs": [
    {
     "name": "stdout",
     "output_type": "stream",
     "text": [
      "['hello', 'world', 'test']\n"
     ]
    }
   ],
   "source": [
    "import nltk\n",
    "import re\n",
    "\n",
    "# Initialize the stopwords list\n",
    "from nltk.corpus import stopwords\n",
    "stop_words = set(stopwords.words('english'))\n",
    "\n",
    "def process_text(text):\n",
    "    # Convert text to lowercase\n",
    "    processed_text = text.lower()\n",
    "\n",
    "    # Remove punctuation from the text\n",
    "    processed_text = re.sub(r'[^\\w\\s]', '', processed_text)\n",
    "\n",
    "    # Remove stop words from the text\n",
    "    processed_text = [word for word in processed_text.split() if word not in stop_words]\n",
    "\n",
    "    return processed_text\n",
    "\n",
    "# Example usage\n",
    "input_text = \"Hello, World! This is a test.\"\n",
    "processed_text = process_text(input_text)\n",
    "print(processed_text)"
   ]
  },
  {
   "cell_type": "code",
   "execution_count": 2,
   "id": "78a6bc79",
   "metadata": {},
   "outputs": [
    {
     "name": "stderr",
     "output_type": "stream",
     "text": [
      "[nltk_data] Downloading package punkt to C:\\Users\\NikitaRampurkarV-\n",
      "[nltk_data]     Sof/nltk_data...\n",
      "[nltk_data]   Unzipping tokenizers\\punkt.zip.\n"
     ]
    },
    {
     "name": "stdout",
     "output_type": "stream",
     "text": [
      "Sentences: ['Hello there!', 'How are you doing today?', 'This is an example sentence.']\n",
      "Words: ['Hello', 'there', '!', 'How', 'are', 'you', 'doing', 'today', '?', 'This', 'is', 'an', 'example', 'sentence', '.']\n"
     ]
    }
   ],
   "source": [
    "import nltk\n",
    "\n",
    "# Download required data files (only need to run once)\n",
    "nltk.download('punkt')\n",
    "\n",
    "from nltk.tokenize import word_tokenize, sent_tokenize\n",
    "\n",
    "text = \"Hello there! How are you doing today? This is an example sentence.\"\n",
    "\n",
    "# Sentence Tokenization\n",
    "sentences = sent_tokenize(text)\n",
    "print(\"Sentences:\", sentences)\n",
    "\n",
    "# Word Tokenization\n",
    "words = word_tokenize(text)\n",
    "print(\"Words:\", words)\n"
   ]
  },
  {
   "cell_type": "code",
   "execution_count": 3,
   "id": "4299f5dc",
   "metadata": {},
   "outputs": [
    {
     "name": "stderr",
     "output_type": "stream",
     "text": [
      "[nltk_data] Downloading package stopwords to\n",
      "[nltk_data]     C:\\Users\\NikitaRampurkarV-Sof/nltk_data...\n",
      "[nltk_data]   Unzipping corpora\\stopwords.zip.\n",
      "[nltk_data] Downloading package punkt to C:\\Users\\NikitaRampurkarV-\n",
      "[nltk_data]     Sof/nltk_data...\n",
      "[nltk_data]   Package punkt is already up-to-date!\n"
     ]
    },
    {
     "name": "stdout",
     "output_type": "stream",
     "text": [
      "[('I', 'love'), ('love', 'reading'), ('reading', 'books'), ('book', 'writing'), ('and', 'code')]\n"
     ]
    }
   ],
   "source": [
    "import nltk\n",
    "\n",
    "# Download necessary stopwords and punkt tokenizer\n",
    "nltk.download('stopwords')\n",
    "nltk.download('punkt')\n",
    "\n",
    "def preprocess_text(text):\n",
    "    # Tokenize the text into words\n",
    "    words = nltk.word_tokenize(text)\n",
    "\n",
    "    # Remove stop words using NLTK's stopword list\n",
    "    stop_words = set(nltk.corpus.stopwords.words(\"english\"))\n",
    "    tokens_without_stopwords = [word for word in words if word.lower() not in stop_words]\n",
    "\n",
    "    # Lemmatize the tokens\n",
    "    lemmatizer = nltk.stem.WordNetLemmatizer()\n",
    "    lemmatized_tokens = [(lemmatizer.lemmatize(word), token) for token, word in zip(tokens_without_stopwords, words)]\n",
    "\n",
    "    return lemmatized_tokens\n",
    "\n",
    "# Example usage\n",
    "text_input=\"I love reading books and writing code\"\n",
    "preprocessed_text=preprocess_text(text_input)\n",
    "print(preprocessed_text)"
   ]
  },
  {
   "cell_type": "code",
   "execution_count": 4,
   "id": "b46bc33f",
   "metadata": {},
   "outputs": [
    {
     "name": "stdout",
     "output_type": "stream",
     "text": [
      "[('I', 'love'), ('love', 'reading'), ('reading', 'books'), ('book', 'writing'), ('and', 'code')]\n",
      "Preprocessed Text: []\n"
     ]
    }
   ],
   "source": [
    "import nltk\n",
    "\n",
    "# Download necessary stopwords and punkt tokenizer\n",
    "# nltk.download(\"stopwords\")\n",
    "# nltk.download(\"punkt\")\n",
    "\n",
    "def preprocess_text(text):\n",
    "    # Tokenize the text into words\n",
    "    words = nltk.word_tokenize(text)\n",
    "\n",
    "    # Remove stop words using NLTK's stopword list\n",
    "    stop_words = set(nltk.corpus.stopwords.words(\"english\"))\n",
    "    tokens_without_stopwords = [word for word in words if word.lower() not in stop_words]\n",
    "\n",
    "    # Lemmatize the tokens\n",
    "    lemmatizer = nltk.stem.WordNetLemmatizer()\n",
    "    lemmatized_tokens = [(lemmatizer.lemmatize(word), token) for token, word in zip(tokens_without_stopwords, words)]\n",
    "\n",
    "    return lemmatized_tokens\n",
    "\n",
    "# Example usage of preprocess_text\n",
    "text_input=\"I love reading books and writing code\"\n",
    "preprocessed_text = preprocess_text(text_input)\n",
    "print(preprocessed_text)\n",
    "\n",
    "def main():\n",
    "    # Get input text from the user\n",
    "    user_input = input(\"Enter a sentence: \")\n",
    "\n",
    "    # Preprocess the text using the function\n",
    "    preprocessed_text = preprocess_text(user_input)\n",
    "\n",
    "    # Print the preprocessed text to the console\n",
    "    print(f\"Preprocessed Text: {preprocessed_text}\")\n",
    "\n",
    "# Run the main function\n",
    "if __name__ == \"__main__\":\n",
    "    main()"
   ]
  }
 ],
 "metadata": {
  "kernelspec": {
   "display_name": "base",
   "language": "python",
   "name": "python3"
  },
  "language_info": {
   "codemirror_mode": {
    "name": "ipython",
    "version": 3
   },
   "file_extension": ".py",
   "mimetype": "text/x-python",
   "name": "python",
   "nbconvert_exporter": "python",
   "pygments_lexer": "ipython3",
   "version": "3.12.7"
  }
 },
 "nbformat": 4,
 "nbformat_minor": 5
}
