{
 "cells": [
  {
   "cell_type": "code",
   "execution_count": 1,
   "id": "3157626b",
   "metadata": {},
   "outputs": [
    {
     "name": "stdout",
     "output_type": "stream",
     "text": [
      "Requirement already satisfied: imbalanced-learn in c:\\users\\nikitarampurkarv-sof\\anaconda3\\lib\\site-packages (0.12.3)\n",
      "Requirement already satisfied: numpy>=1.17.3 in c:\\users\\nikitarampurkarv-sof\\anaconda3\\lib\\site-packages (from imbalanced-learn) (1.26.4)\n",
      "Requirement already satisfied: scipy>=1.5.0 in c:\\users\\nikitarampurkarv-sof\\anaconda3\\lib\\site-packages (from imbalanced-learn) (1.13.1)\n",
      "Requirement already satisfied: scikit-learn>=1.0.2 in c:\\users\\nikitarampurkarv-sof\\anaconda3\\lib\\site-packages (from imbalanced-learn) (1.5.1)\n",
      "Requirement already satisfied: joblib>=1.1.1 in c:\\users\\nikitarampurkarv-sof\\anaconda3\\lib\\site-packages (from imbalanced-learn) (1.4.2)\n",
      "Requirement already satisfied: threadpoolctl>=2.0.0 in c:\\users\\nikitarampurkarv-sof\\anaconda3\\lib\\site-packages (from imbalanced-learn) (3.5.0)\n",
      "Note: you may need to restart the kernel to use updated packages.\n"
     ]
    }
   ],
   "source": [
    "pip install imbalanced-learn"
   ]
  },
  {
   "cell_type": "code",
   "execution_count": 2,
   "id": "2d4fd919",
   "metadata": {},
   "outputs": [],
   "source": [
    "import pandas as pd"
   ]
  },
  {
   "cell_type": "code",
   "execution_count": 3,
   "id": "31d81889",
   "metadata": {},
   "outputs": [],
   "source": [
    "df = pd.read_csv('framingham_3000.csv')"
   ]
  },
  {
   "cell_type": "code",
   "execution_count": 4,
   "id": "ebc3ddba",
   "metadata": {},
   "outputs": [
    {
     "data": {
      "text/plain": [
       "TenYearCHD\n",
       "0    2541\n",
       "1     459\n",
       "Name: count, dtype: int64"
      ]
     },
     "execution_count": 4,
     "metadata": {},
     "output_type": "execute_result"
    }
   ],
   "source": [
    "df['TenYearCHD'].value_counts()"
   ]
  },
  {
   "cell_type": "code",
   "execution_count": 5,
   "id": "9cbcf4a6",
   "metadata": {},
   "outputs": [],
   "source": [
    "negative_positions = (df < 0) #no negative values\n",
    "rows, cols = negative_positions.values.nonzero()\n",
    "for row, col in zip(rows, cols):\n",
    "    print(f\"Negative value at row {df.index[row]}, column {df.columns[col]}: {df.iat[row, col]}\")"
   ]
  },
  {
   "cell_type": "code",
   "execution_count": 6,
   "id": "2e455f8d",
   "metadata": {},
   "outputs": [
    {
     "name": "stdout",
     "output_type": "stream",
     "text": [
      "Empty DataFrame\n",
      "Columns: [male, age, education, currentSmoker, cigsPerDay, BPMeds, prevalentStroke, prevalentHyp, diabetes, totChol, sysBP, diaBP, BMI, heartRate, glucose, TenYearCHD]\n",
      "Index: []\n"
     ]
    }
   ],
   "source": [
    "duplicates = df[df.duplicated()] #no duplicates\n",
    "print(duplicates)"
   ]
  },
  {
   "cell_type": "code",
   "execution_count": 7,
   "id": "08772b93",
   "metadata": {},
   "outputs": [
    {
     "data": {
      "text/plain": [
       "male                 0\n",
       "age                  0\n",
       "education           75\n",
       "currentSmoker        0\n",
       "cigsPerDay          15\n",
       "BPMeds              40\n",
       "prevalentStroke      0\n",
       "prevalentHyp         0\n",
       "diabetes             0\n",
       "totChol             38\n",
       "sysBP                0\n",
       "diaBP                0\n",
       "BMI                 17\n",
       "heartRate            1\n",
       "glucose            282\n",
       "TenYearCHD           0\n",
       "dtype: int64"
      ]
     },
     "execution_count": 7,
     "metadata": {},
     "output_type": "execute_result"
    }
   ],
   "source": [
    "df.isnull().sum()"
   ]
  },
  {
   "cell_type": "code",
   "execution_count": 8,
   "id": "401b57d8",
   "metadata": {},
   "outputs": [
    {
     "name": "stderr",
     "output_type": "stream",
     "text": [
      "C:\\Users\\NikitaRampurkarV-Sof\\AppData\\Local\\Temp\\ipykernel_17420\\4278833638.py:8: FutureWarning: A value is trying to be set on a copy of a DataFrame or Series through chained assignment using an inplace method.\n",
      "The behavior will change in pandas 3.0. This inplace method will never work because the intermediate object on which we are setting values always behaves as a copy.\n",
      "\n",
      "For example, when doing 'df[col].method(value, inplace=True)', try using 'df.method({col: value}, inplace=True)' or df[col] = df[col].method(value) instead, to perform the operation inplace on the original object.\n",
      "\n",
      "\n",
      "  df_imputed[column].fillna(median_value, inplace=True)\n"
     ]
    }
   ],
   "source": [
    "df_imputed = df.copy() #imputing null values\n",
    "# When selecting columns to impute\n",
    "columns_to_impute = ['education', 'cigsPerDay', 'BPMeds', 'totChol', 'BMI', 'glucose', 'heartRate']\n",
    "\n",
    "# Apply median imputation ONLY to these columns\n",
    "for column in columns_to_impute:\n",
    "    median_value = df_imputed[column].median()\n",
    "    df_imputed[column].fillna(median_value, inplace=True)"
   ]
  },
  {
   "cell_type": "code",
   "execution_count": 9,
   "id": "ddf3bd38",
   "metadata": {},
   "outputs": [
    {
     "data": {
      "text/plain": [
       "TenYearCHD\n",
       "0    2541\n",
       "1     459\n",
       "Name: count, dtype: int64"
      ]
     },
     "execution_count": 9,
     "metadata": {},
     "output_type": "execute_result"
    }
   ],
   "source": [
    "df_imputed['TenYearCHD'].value_counts()"
   ]
  },
  {
   "cell_type": "code",
   "execution_count": 25,
   "id": "c9813ec4",
   "metadata": {},
   "outputs": [
    {
     "data": {
      "text/plain": [
       "TenYearCHD\n",
       "0    2541\n",
       "1     459\n",
       "Name: count, dtype: int64"
      ]
     },
     "execution_count": 25,
     "metadata": {},
     "output_type": "execute_result"
    }
   ],
   "source": [
    "df_outliers_handled['TenYearCHD'].value_counts()"
   ]
  },
  {
   "cell_type": "code",
   "execution_count": 31,
   "id": "42f1ffed",
   "metadata": {},
   "outputs": [
    {
     "name": "stdout",
     "output_type": "stream",
     "text": [
      "Significant features: \n",
      "            Feature       P-Value\n",
      "1               age  5.928346e-35\n",
      "10            sysBP  5.365650e-32\n",
      "7      prevalentHyp  2.110050e-20\n",
      "14          glucose  7.178498e-15\n",
      "11            diaBP  1.266971e-14\n",
      "8          diabetes  2.080084e-10\n",
      "0              male  5.501063e-06\n",
      "9           totChol  6.150936e-06\n",
      "12              BMI  9.997507e-06\n",
      "4        cigsPerDay  2.405940e-04\n",
      "6   prevalentStroke  2.974041e-04\n",
      "2         education  7.623249e-04\n",
      "5            BPMeds  1.229069e-03\n"
     ]
    }
   ],
   "source": [
    "from sklearn.feature_selection import SelectKBest, f_classif\n",
    "\n",
    "# Assuming df is your DataFrame and 'target' is the categorical column\n",
    "X = df_outliers_handled.drop(columns=['TenYearCHD'])  # Features (continuous variables)\n",
    "y = df_outliers_handled['TenYearCHD']  # Target (categorical variable)\n",
    "\n",
    "# Perform ANOVA F-test\n",
    "selector = SelectKBest(score_func=f_classif, k='all')  # k can be set to 'all' or a specific number of top features\n",
    "selector.fit(X, y)\n",
    "\n",
    "# Get the p-values of the features\n",
    "p_values = selector.pvalues_\n",
    "\n",
    "# Create a DataFrame with features and their corresponding p-values\n",
    "feature_scores = pd.DataFrame({\n",
    "    'Feature': X.columns,\n",
    "    'P-Value': p_values\n",
    "})\n",
    "\n",
    "# Sort features by p-value (lowest p-value first)\n",
    "sorted_features = feature_scores.sort_values(by='P-Value', ascending=True)\n",
    "\n",
    "# Optional: Select features with p-value below a threshold (e.g., 0.05)\n",
    "significant_features = sorted_features[sorted_features['P-Value'] < 0.05]\n",
    "print(f\"Significant features: \\n{significant_features}\")\n"
   ]
  },
  {
   "cell_type": "code",
   "execution_count": 32,
   "id": "5641fa5b",
   "metadata": {},
   "outputs": [
    {
     "data": {
      "text/plain": [
       "Index(['male', 'age', 'education', 'currentSmoker', 'cigsPerDay', 'BPMeds',\n",
       "       'prevalentStroke', 'prevalentHyp', 'diabetes', 'totChol', 'sysBP',\n",
       "       'diaBP', 'BMI', 'heartRate', 'glucose', 'TenYearCHD'],\n",
       "      dtype='object')"
      ]
     },
     "execution_count": 32,
     "metadata": {},
     "output_type": "execute_result"
    }
   ],
   "source": [
    "df_outliers_handled.columns"
   ]
  },
  {
   "cell_type": "code",
   "execution_count": 34,
   "id": "fe1159a0",
   "metadata": {},
   "outputs": [],
   "source": [
    "# Get the list of significant feature names\n",
    "selected_columns = significant_features['Feature'].tolist()\n",
    "\n",
    "# Include the target column\n",
    "selected_columns.append('TenYearCHD')\n",
    "\n",
    "# Create a new DataFrame with only the selected features and target\n",
    "df_selected = df_outliers_handled[selected_columns]"
   ]
  },
  {
   "cell_type": "code",
   "execution_count": 35,
   "id": "266442e7",
   "metadata": {},
   "outputs": [
    {
     "data": {
      "text/plain": [
       "Index(['age', 'sysBP', 'prevalentHyp', 'glucose', 'diaBP', 'diabetes', 'male',\n",
       "       'totChol', 'BMI', 'cigsPerDay', 'prevalentStroke', 'education',\n",
       "       'BPMeds', 'TenYearCHD'],\n",
       "      dtype='object')"
      ]
     },
     "execution_count": 35,
     "metadata": {},
     "output_type": "execute_result"
    }
   ],
   "source": [
    "df_selected.columns"
   ]
  },
  {
   "cell_type": "code",
   "execution_count": 36,
   "id": "712dbcd4",
   "metadata": {},
   "outputs": [],
   "source": [
    "from imblearn.over_sampling import SMOTE\n",
    "\n",
    "# Separate features and target\n",
    "X = df_selected.drop(columns=['TenYearCHD'])\n",
    "y = df_selected['TenYearCHD']\n",
    "\n",
    "# Apply SMOTE\n",
    "smote = SMOTE(random_state=42)\n",
    "X_resampled, y_resampled = smote.fit_resample(X, y)\n",
    "\n",
    "# Combine back into a single DataFrame\n",
    "df_balanced = pd.DataFrame(X_resampled, columns=X.columns)\n",
    "df_balanced['TenYearCHD'] = y_resampled"
   ]
  },
  {
   "cell_type": "code",
   "execution_count": 41,
   "id": "62883974",
   "metadata": {},
   "outputs": [
    {
     "data": {
      "text/plain": [
       "Index(['age', 'sysBP', 'prevalentHyp', 'glucose', 'diaBP', 'diabetes', 'male',\n",
       "       'totChol', 'BMI', 'cigsPerDay', 'prevalentStroke', 'education',\n",
       "       'BPMeds', 'TenYearCHD'],\n",
       "      dtype='object')"
      ]
     },
     "execution_count": 41,
     "metadata": {},
     "output_type": "execute_result"
    }
   ],
   "source": [
    "df_balanced.columns"
   ]
  },
  {
   "cell_type": "code",
   "execution_count": 42,
   "id": "e64f0473",
   "metadata": {},
   "outputs": [
    {
     "data": {
      "text/plain": [
       "TenYearCHD\n",
       "0    2541\n",
       "1    2541\n",
       "Name: count, dtype: int64"
      ]
     },
     "execution_count": 42,
     "metadata": {},
     "output_type": "execute_result"
    }
   ],
   "source": [
    "df_balanced['TenYearCHD'].value_counts()"
   ]
  },
  {
   "cell_type": "code",
   "execution_count": 45,
   "id": "bcc85345",
   "metadata": {},
   "outputs": [],
   "source": [
    "df_balanced.to_csv('data.csv', index=False)"
   ]
  }
 ],
 "metadata": {
  "kernelspec": {
   "display_name": "base",
   "language": "python",
   "name": "python3"
  },
  "language_info": {
   "codemirror_mode": {
    "name": "ipython",
    "version": 3
   },
   "file_extension": ".py",
   "mimetype": "text/x-python",
   "name": "python",
   "nbconvert_exporter": "python",
   "pygments_lexer": "ipython3",
   "version": "3.12.7"
  }
 },
 "nbformat": 4,
 "nbformat_minor": 5
}
