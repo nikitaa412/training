{
 "cells": [
  {
   "cell_type": "code",
   "execution_count": 4,
   "id": "567f08ec",
   "metadata": {},
   "outputs": [],
   "source": [
    "import pandas as pd\n",
    "import matplotlib.pyplot as plt\n",
    "from statsmodels.tsa.stattools import adfuller"
   ]
  },
  {
   "cell_type": "code",
   "execution_count": null,
   "id": "86033718",
   "metadata": {},
   "outputs": [],
   "source": [
    "df = pd.read_csv(\"weatherHistory.csv\", parse_dates=[\"Formatted Date\"])"
   ]
  },
  {
   "cell_type": "code",
   "execution_count": 6,
   "id": "2dcd2f99",
   "metadata": {},
   "outputs": [
    {
     "data": {
      "text/plain": [
       "Index(['Formatted Date', 'Summary', 'Precip Type', 'Temperature (C)',\n",
       "       'Apparent Temperature (C)', 'Humidity', 'Wind Speed (km/h)',\n",
       "       'Wind Bearing (degrees)', 'Visibility (km)', 'Loud Cover',\n",
       "       'Pressure (millibars)', 'Daily Summary'],\n",
       "      dtype='object')"
      ]
     },
     "execution_count": 6,
     "metadata": {},
     "output_type": "execute_result"
    }
   ],
   "source": [
    "df.columns"
   ]
  },
  {
   "cell_type": "code",
   "execution_count": 7,
   "id": "8573b6b4",
   "metadata": {},
   "outputs": [
    {
     "data": {
      "text/plain": [
       "Formatted Date                0\n",
       "Summary                       0\n",
       "Precip Type                 517\n",
       "Temperature (C)               0\n",
       "Apparent Temperature (C)      0\n",
       "Humidity                      0\n",
       "Wind Speed (km/h)             0\n",
       "Wind Bearing (degrees)        0\n",
       "Visibility (km)               0\n",
       "Loud Cover                    0\n",
       "Pressure (millibars)          0\n",
       "Daily Summary                 0\n",
       "dtype: int64"
      ]
     },
     "execution_count": 7,
     "metadata": {},
     "output_type": "execute_result"
    }
   ],
   "source": [
    "df.isnull().sum()"
   ]
  },
  {
   "cell_type": "code",
   "execution_count": 8,
   "id": "513a1bb0",
   "metadata": {},
   "outputs": [
    {
     "name": "stderr",
     "output_type": "stream",
     "text": [
      "C:\\Users\\NikitaRampurkarV-Sof\\AppData\\Local\\Temp\\ipykernel_12880\\1394845228.py:2: FutureWarning: A value is trying to be set on a copy of a DataFrame or Series through chained assignment using an inplace method.\n",
      "The behavior will change in pandas 3.0. This inplace method will never work because the intermediate object on which we are setting values always behaves as a copy.\n",
      "\n",
      "For example, when doing 'df[col].method(value, inplace=True)', try using 'df.method({col: value}, inplace=True)' or df[col] = df[col].method(value) instead, to perform the operation inplace on the original object.\n",
      "\n",
      "\n",
      "  df['Precip Type'].fillna(df['Precip Type'].mode()[0], inplace=True)\n"
     ]
    }
   ],
   "source": [
    "#imputing precip type(categorical variable with mode)\n",
    "df['Precip Type'].fillna(df['Precip Type'].mode()[0], inplace=True)"
   ]
  },
  {
   "cell_type": "code",
   "execution_count": 9,
   "id": "58cab8d2",
   "metadata": {},
   "outputs": [
    {
     "data": {
      "text/plain": [
       "Formatted Date               object\n",
       "Summary                      object\n",
       "Precip Type                  object\n",
       "Temperature (C)             float64\n",
       "Apparent Temperature (C)    float64\n",
       "Humidity                    float64\n",
       "Wind Speed (km/h)           float64\n",
       "Wind Bearing (degrees)      float64\n",
       "Visibility (km)             float64\n",
       "Loud Cover                  float64\n",
       "Pressure (millibars)        float64\n",
       "Daily Summary                object\n",
       "dtype: object"
      ]
     },
     "execution_count": 9,
     "metadata": {},
     "output_type": "execute_result"
    }
   ],
   "source": [
    "df.dtypes"
   ]
  },
  {
   "cell_type": "code",
   "execution_count": 10,
   "id": "17caba1f",
   "metadata": {},
   "outputs": [],
   "source": [
    "from sklearn.preprocessing import LabelEncoder"
   ]
  },
  {
   "cell_type": "code",
   "execution_count": 11,
   "id": "4de376ec",
   "metadata": {},
   "outputs": [],
   "source": [
    "categorical_cols = df.select_dtypes(include=['object']).columns"
   ]
  },
  {
   "cell_type": "code",
   "execution_count": 12,
   "id": "af8077fa",
   "metadata": {},
   "outputs": [],
   "source": [
    "label_encoders = {}\n",
    "for col in categorical_cols:\n",
    "    le = LabelEncoder()\n",
    "    df[col] = le.fit_transform(df[col])\n",
    "    label_encoders[col] = le"
   ]
  },
  {
   "cell_type": "code",
   "execution_count": 13,
   "id": "385c7344",
   "metadata": {},
   "outputs": [
    {
     "data": {
      "text/plain": [
       "Formatted Date                int32\n",
       "Summary                       int32\n",
       "Precip Type                   int32\n",
       "Temperature (C)             float64\n",
       "Apparent Temperature (C)    float64\n",
       "Humidity                    float64\n",
       "Wind Speed (km/h)           float64\n",
       "Wind Bearing (degrees)      float64\n",
       "Visibility (km)             float64\n",
       "Loud Cover                  float64\n",
       "Pressure (millibars)        float64\n",
       "Daily Summary                 int32\n",
       "dtype: object"
      ]
     },
     "execution_count": 13,
     "metadata": {},
     "output_type": "execute_result"
    }
   ],
   "source": [
    "df.dtypes"
   ]
  },
  {
   "cell_type": "code",
   "execution_count": 14,
   "id": "e684e70b",
   "metadata": {},
   "outputs": [],
   "source": [
    "import numpy as np"
   ]
  },
  {
   "cell_type": "code",
   "execution_count": 16,
   "id": "b0bf76af",
   "metadata": {},
   "outputs": [],
   "source": [
    "numeric_cols = df.select_dtypes(include=[np.number]).columns\n",
    "for col in numeric_cols:\n",
    "    Q1 = df[col].quantile(0.25)\n",
    "    Q3 = df[col].quantile(0.75)\n",
    "    IQR = Q3 - Q1\n",
    "    lower = Q1 - 1.5 * IQR\n",
    "    upper = Q3 + 1.5 * IQR\n",
    "    df = df[(df[col] >= lower) & (df[col] <= upper)]"
   ]
  },
  {
   "cell_type": "code",
   "execution_count": 17,
   "id": "cdf56381",
   "metadata": {},
   "outputs": [],
   "source": [
    "from sklearn.feature_selection import f_classif"
   ]
  },
  {
   "cell_type": "code",
   "execution_count": 18,
   "id": "10fa55aa",
   "metadata": {},
   "outputs": [
    {
     "name": "stdout",
     "output_type": "stream",
     "text": [
      "                     Feature      F-Value        P-Value\n",
      "0                    Summary          inf   0.000000e+00\n",
      "1              Daily Summary  2583.089803   0.000000e+00\n",
      "2                   Humidity  1705.487466   0.000000e+00\n",
      "3   Apparent Temperature (C)  1476.430827   0.000000e+00\n",
      "4            Temperature (C)  1472.541800   0.000000e+00\n",
      "5            Visibility (km)   721.098984   0.000000e+00\n",
      "6       Pressure (millibars)   258.638072   0.000000e+00\n",
      "7          Wind Speed (km/h)   200.371902  3.207460e-254\n",
      "8             Formatted Date    51.530997   1.245139e-63\n",
      "9     Wind Bearing (degrees)     8.527668   2.766083e-09\n",
      "10               Precip Type          NaN            NaN\n",
      "11                Loud Cover          NaN            NaN\n"
     ]
    },
    {
     "name": "stderr",
     "output_type": "stream",
     "text": [
      "c:\\Users\\NikitaRampurkarV-Sof\\anaconda3\\Lib\\site-packages\\sklearn\\feature_selection\\_univariate_selection.py:112: UserWarning: Features [1 2 9] are constant.\n",
      "  warnings.warn(\"Features %s are constant.\" % constant_features_idx, UserWarning)\n",
      "c:\\Users\\NikitaRampurkarV-Sof\\anaconda3\\Lib\\site-packages\\sklearn\\feature_selection\\_univariate_selection.py:113: RuntimeWarning: divide by zero encountered in divide\n",
      "  f = msb / msw\n",
      "c:\\Users\\NikitaRampurkarV-Sof\\anaconda3\\Lib\\site-packages\\sklearn\\feature_selection\\_univariate_selection.py:113: RuntimeWarning: invalid value encountered in divide\n",
      "  f = msb / msw\n"
     ]
    }
   ],
   "source": [
    "# Reload the original target variable 'Summary'\n",
    "original_data = pd.read_csv('weatherHistory.csv')\n",
    "target = original_data['Summary'].loc[df.index]  # Align with current df after outlier removal\n",
    "\n",
    "# Convert target to categorical numeric codes\n",
    "y = target.astype('category').cat.codes\n",
    "\n",
    "# Select only numerical features (including one-hot encoded ones)\n",
    "X = df.select_dtypes(include=[np.number])\n",
    "\n",
    "# Perform ANOVA F-test\n",
    "f_values, p_values = f_classif(X, y)\n",
    "\n",
    "# Create a DataFrame with results\n",
    "anova_results = pd.DataFrame({\n",
    "    'Feature': X.columns,\n",
    "    'F-Value': f_values,\n",
    "    'P-Value': p_values\n",
    "}).sort_values(by='F-Value', ascending=False).reset_index(drop=True)\n",
    "\n",
    "# ✅ Display all features\n",
    "print(anova_results)\n"
   ]
  },
  {
   "cell_type": "code",
   "execution_count": 19,
   "id": "994676fc",
   "metadata": {},
   "outputs": [
    {
     "name": "stdout",
     "output_type": "stream",
     "text": [
      "Selected 10 features with p-value ≤ 0.05.\n"
     ]
    }
   ],
   "source": [
    "# Keep only features with p-value ≤ 0.05\n",
    "significant_features = anova_results[anova_results['P-Value'] <= 0.05]['Feature'].tolist()\n",
    "\n",
    "# Filter the original DataFrame to keep only those features\n",
    "df = df[significant_features]\n",
    "\n",
    "# Now, df contains only statistically significant features\n",
    "print(f\"Selected {len(significant_features)} features with p-value ≤ 0.05.\")"
   ]
  },
  {
   "cell_type": "code",
   "execution_count": 20,
   "id": "c8792cf8",
   "metadata": {},
   "outputs": [],
   "source": [
    "from sklearn.preprocessing import StandardScaler"
   ]
  },
  {
   "cell_type": "code",
   "execution_count": 21,
   "id": "5cf610c9",
   "metadata": {},
   "outputs": [
    {
     "name": "stdout",
     "output_type": "stream",
     "text": [
      "Data with Standardization (Z-score scaling):\n",
      "       Summary  Daily Summary  Humidity  Apparent Temperature (C)  \\\n",
      "0           19            197      0.89                  7.388889   \n",
      "1           19            197      0.86                  7.227778   \n",
      "2           17            197      0.89                  9.377778   \n",
      "3           19            197      0.83                  5.944444   \n",
      "4           17            197      0.83                  6.977778   \n",
      "...        ...            ...       ...                       ...   \n",
      "96448       19            170      0.43                 26.016667   \n",
      "96449       19            170      0.48                 24.583333   \n",
      "96450       19            170      0.56                 22.038889   \n",
      "96451       19            170      0.60                 21.522222   \n",
      "96452       19            170      0.61                 20.438889   \n",
      "\n",
      "       Temperature (C)  Visibility (km)  Pressure (millibars)  \\\n",
      "0             9.472222          15.8263               1015.13   \n",
      "1             9.355556          15.8263               1015.63   \n",
      "2             9.377778          14.9569               1015.94   \n",
      "3             8.288889          15.8263               1016.41   \n",
      "4             8.755556          15.8263               1016.51   \n",
      "...                ...              ...                   ...   \n",
      "96448        26.016667          16.1000               1014.36   \n",
      "96449        24.583333          15.5526               1015.16   \n",
      "96450        22.038889          16.1000               1015.66   \n",
      "96451        21.522222          16.1000               1015.95   \n",
      "96452        20.438889          15.5204               1016.16   \n",
      "\n",
      "       Wind Speed (km/h)  Formatted Date  Wind Bearing (degrees)  \\\n",
      "0                14.1197            2159                   251.0   \n",
      "1                14.2646            2160                   259.0   \n",
      "2                 3.9284            2161                   204.0   \n",
      "3                14.1036            2162                   269.0   \n",
      "4                11.0446            2163                   259.0   \n",
      "...                  ...             ...                     ...   \n",
      "96448            10.9963           93711                    31.0   \n",
      "96449            10.0947           93712                    20.0   \n",
      "96450             8.9838           93713                    30.0   \n",
      "96451            10.5294           93714                    20.0   \n",
      "96452             5.8765           93715                    39.0   \n",
      "\n",
      "       Temperature (C)_standardized  \n",
      "0                         -0.627501  \n",
      "1                         -0.641766  \n",
      "2                         -0.639049  \n",
      "3                         -0.772191  \n",
      "4                         -0.715130  \n",
      "...                             ...  \n",
      "96448                      1.395449  \n",
      "96449                      1.220190  \n",
      "96450                      0.909072  \n",
      "96451                      0.845897  \n",
      "96452                      0.713434  \n",
      "\n",
      "[66716 rows x 11 columns]\n"
     ]
    }
   ],
   "source": [
    "scaler = StandardScaler()\n",
    "\n",
    "# Apply Standard scaling to the 'Temperature (C)' column\n",
    "df['Temperature (C)_standardized'] = scaler.fit_transform(df[['Temperature (C)']])\n",
    "\n",
    "# Print the DataFrame with the standardized temperature values\n",
    "print(\"Data with Standardization (Z-score scaling):\")\n",
    "print(df)"
   ]
  },
  {
   "cell_type": "code",
   "execution_count": 22,
   "id": "7507fc85",
   "metadata": {},
   "outputs": [],
   "source": [
    "# Save to CSV\n",
    "output_path = \"preprocessed_weather_data.csv\"\n",
    "df.to_csv(output_path, index=False)"
   ]
  }
 ],
 "metadata": {
  "kernelspec": {
   "display_name": "base",
   "language": "python",
   "name": "python3"
  },
  "language_info": {
   "codemirror_mode": {
    "name": "ipython",
    "version": 3
   },
   "file_extension": ".py",
   "mimetype": "text/x-python",
   "name": "python",
   "nbconvert_exporter": "python",
   "pygments_lexer": "ipython3",
   "version": "3.12.7"
  }
 },
 "nbformat": 4,
 "nbformat_minor": 5
}
