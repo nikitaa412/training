{
 "cells": [
  {
   "cell_type": "code",
   "execution_count": 1,
   "id": "cc78e6f6",
   "metadata": {},
   "outputs": [],
   "source": [
    "import pandas as pd"
   ]
  },
  {
   "cell_type": "code",
   "execution_count": 2,
   "id": "6fcfbc06",
   "metadata": {},
   "outputs": [],
   "source": [
    "# Step 1: Load the dataset\n",
    "df = pd.read_csv(\"Health_Insurance_Fraud_Claims.csv\")"
   ]
  },
  {
   "cell_type": "code",
   "execution_count": 3,
   "id": "e069065f",
   "metadata": {},
   "outputs": [
    {
     "data": {
      "text/plain": [
       "(4500, 19)"
      ]
     },
     "execution_count": 3,
     "metadata": {},
     "output_type": "execute_result"
    }
   ],
   "source": [
    "df.shape"
   ]
  },
  {
   "cell_type": "code",
   "execution_count": 4,
   "id": "8ea08f2b",
   "metadata": {},
   "outputs": [
    {
     "data": {
      "text/plain": [
       "Index(['ClaimID', 'PatientID', 'ProviderID', 'ClaimAmount', 'ClaimDate',\n",
       "       'DiagnosisCode', 'ProcedureCode', 'PatientAge', 'PatientGender',\n",
       "       'ProviderSpecialty', 'ClaimStatus', 'PatientIncome',\n",
       "       'PatientMaritalStatus', 'PatientEmploymentStatus', 'ProviderLocation',\n",
       "       'ClaimType', 'ClaimSubmissionMethod', 'Cluster', 'ClaimLegitimacy'],\n",
       "      dtype='object')"
      ]
     },
     "execution_count": 4,
     "metadata": {},
     "output_type": "execute_result"
    }
   ],
   "source": [
    "df.columns"
   ]
  },
  {
   "cell_type": "code",
   "execution_count": 5,
   "id": "b94728b3",
   "metadata": {},
   "outputs": [
    {
     "name": "stdout",
     "output_type": "stream",
     "text": [
      "<class 'pandas.core.frame.DataFrame'>\n",
      "RangeIndex: 4500 entries, 0 to 4499\n",
      "Data columns (total 19 columns):\n",
      " #   Column                   Non-Null Count  Dtype  \n",
      "---  ------                   --------------  -----  \n",
      " 0   ClaimID                  4500 non-null   object \n",
      " 1   PatientID                4500 non-null   object \n",
      " 2   ProviderID               4500 non-null   object \n",
      " 3   ClaimAmount              4500 non-null   float64\n",
      " 4   ClaimDate                4500 non-null   object \n",
      " 5   DiagnosisCode            4500 non-null   object \n",
      " 6   ProcedureCode            4500 non-null   object \n",
      " 7   PatientAge               4500 non-null   int64  \n",
      " 8   PatientGender            4500 non-null   object \n",
      " 9   ProviderSpecialty        4500 non-null   object \n",
      " 10  ClaimStatus              4500 non-null   object \n",
      " 11  PatientIncome            4500 non-null   float64\n",
      " 12  PatientMaritalStatus     4500 non-null   object \n",
      " 13  PatientEmploymentStatus  4500 non-null   object \n",
      " 14  ProviderLocation         4500 non-null   object \n",
      " 15  ClaimType                4500 non-null   object \n",
      " 16  ClaimSubmissionMethod    4500 non-null   object \n",
      " 17  Cluster                  4500 non-null   int64  \n",
      " 18  ClaimLegitimacy          4500 non-null   object \n",
      "dtypes: float64(2), int64(2), object(15)\n",
      "memory usage: 668.1+ KB\n"
     ]
    }
   ],
   "source": [
    "df.info()"
   ]
  },
  {
   "cell_type": "code",
   "execution_count": 6,
   "id": "5f5475d4",
   "metadata": {},
   "outputs": [],
   "source": [
    "df=df.drop([\"ClaimID\", \"PatientID\", \"ProviderID\", \"ClaimDate\", \"DiagnosisCode\",\"ProcedureCode\",\"ProviderSpecialty\", \"ClaimStatus\", \"ProviderLocation\", \"Cluster\"], axis=1)"
   ]
  },
  {
   "cell_type": "code",
   "execution_count": 36,
   "id": "56a42647",
   "metadata": {},
   "outputs": [
    {
     "name": "stdout",
     "output_type": "stream",
     "text": [
      "<class 'pandas.core.frame.DataFrame'>\n",
      "RangeIndex: 4500 entries, 0 to 4499\n",
      "Data columns (total 9 columns):\n",
      " #   Column                   Non-Null Count  Dtype  \n",
      "---  ------                   --------------  -----  \n",
      " 0   ClaimAmount              4500 non-null   float64\n",
      " 1   PatientAge               4500 non-null   int64  \n",
      " 2   PatientGender            4500 non-null   object \n",
      " 3   PatientIncome            4500 non-null   float64\n",
      " 4   PatientMaritalStatus     4500 non-null   object \n",
      " 5   PatientEmploymentStatus  4500 non-null   object \n",
      " 6   ClaimType                4500 non-null   object \n",
      " 7   ClaimSubmissionMethod    4500 non-null   object \n",
      " 8   ClaimLegitimacy          4500 non-null   object \n",
      "dtypes: float64(2), int64(1), object(6)\n",
      "memory usage: 316.5+ KB\n"
     ]
    }
   ],
   "source": [
    "df.info()"
   ]
  },
  {
   "cell_type": "code",
   "execution_count": 37,
   "id": "622f49fb",
   "metadata": {},
   "outputs": [
    {
     "data": {
      "text/plain": [
       "ClaimLegitimacy\n",
       "Legitimate    4230\n",
       "Fraud          270\n",
       "Name: count, dtype: int64"
      ]
     },
     "execution_count": 37,
     "metadata": {},
     "output_type": "execute_result"
    }
   ],
   "source": [
    "df[\"ClaimLegitimacy\"].value_counts()"
   ]
  },
  {
   "cell_type": "code",
   "execution_count": 38,
   "id": "081d5993",
   "metadata": {},
   "outputs": [],
   "source": [
    "df['ClaimLegitimacy'] = df['ClaimLegitimacy'].map({'Legitimate': 0, 'Fraud': 1})"
   ]
  },
  {
   "cell_type": "code",
   "execution_count": 39,
   "id": "a8fe93da",
   "metadata": {},
   "outputs": [
    {
     "name": "stdout",
     "output_type": "stream",
     "text": [
      "Label-encoded DataFrame:\n",
      "   ClaimAmount  PatientAge  PatientGender  PatientIncome  \\\n",
      "0      7820.52          96              0       57595.11   \n",
      "1      5453.86          95              1      140772.72   \n",
      "2      8229.86          10              1       69803.19   \n",
      "3      9519.16          59              0      135530.12   \n",
      "4      3226.15          36              0       36995.52   \n",
      "\n",
      "   PatientMaritalStatus  PatientEmploymentStatus  ClaimType  \\\n",
      "0                     2                        0          1   \n",
      "1                     3                        0          1   \n",
      "2                     1                        2          0   \n",
      "3                     1                        0          3   \n",
      "4                     0                        3          1   \n",
      "\n",
      "   ClaimSubmissionMethod  ClaimLegitimacy  \n",
      "0                      1                0  \n",
      "1                      0                0  \n",
      "2                      0                0  \n",
      "3                      2                0  \n",
      "4                      2                0  \n"
     ]
    }
   ],
   "source": [
    "from sklearn.preprocessing import LabelEncoder\n",
    "\n",
    "# Identify categorical columns\n",
    "categorical_cols = df.select_dtypes(include=['object', 'category']).columns\n",
    "\n",
    "# Apply Label Encoding\n",
    "le = LabelEncoder()\n",
    "for col in categorical_cols:\n",
    "    df[col] = le.fit_transform(df[col])\n",
    "\n",
    "# df_encoded now has label-encoded categorical columns\n",
    "print(\"Label-encoded DataFrame:\")\n",
    "print(df.head())"
   ]
  },
  {
   "cell_type": "code",
   "execution_count": 40,
   "id": "f76f8bd1",
   "metadata": {},
   "outputs": [
    {
     "name": "stdout",
     "output_type": "stream",
     "text": [
      "<class 'pandas.core.frame.DataFrame'>\n",
      "RangeIndex: 4500 entries, 0 to 4499\n",
      "Data columns (total 9 columns):\n",
      " #   Column                   Non-Null Count  Dtype  \n",
      "---  ------                   --------------  -----  \n",
      " 0   ClaimAmount              4500 non-null   float64\n",
      " 1   PatientAge               4500 non-null   int64  \n",
      " 2   PatientGender            4500 non-null   int32  \n",
      " 3   PatientIncome            4500 non-null   float64\n",
      " 4   PatientMaritalStatus     4500 non-null   int32  \n",
      " 5   PatientEmploymentStatus  4500 non-null   int32  \n",
      " 6   ClaimType                4500 non-null   int32  \n",
      " 7   ClaimSubmissionMethod    4500 non-null   int32  \n",
      " 8   ClaimLegitimacy          4500 non-null   int64  \n",
      "dtypes: float64(2), int32(5), int64(2)\n",
      "memory usage: 228.6 KB\n"
     ]
    }
   ],
   "source": [
    "df.info()"
   ]
  },
  {
   "cell_type": "code",
   "execution_count": 41,
   "id": "a321e356",
   "metadata": {},
   "outputs": [
    {
     "data": {
      "text/html": [
       "<div>\n",
       "<style scoped>\n",
       "    .dataframe tbody tr th:only-of-type {\n",
       "        vertical-align: middle;\n",
       "    }\n",
       "\n",
       "    .dataframe tbody tr th {\n",
       "        vertical-align: top;\n",
       "    }\n",
       "\n",
       "    .dataframe thead th {\n",
       "        text-align: right;\n",
       "    }\n",
       "</style>\n",
       "<table border=\"1\" class=\"dataframe\">\n",
       "  <thead>\n",
       "    <tr style=\"text-align: right;\">\n",
       "      <th></th>\n",
       "      <th>ClaimAmount</th>\n",
       "      <th>PatientAge</th>\n",
       "      <th>PatientGender</th>\n",
       "      <th>PatientIncome</th>\n",
       "      <th>PatientMaritalStatus</th>\n",
       "      <th>PatientEmploymentStatus</th>\n",
       "      <th>ClaimType</th>\n",
       "      <th>ClaimSubmissionMethod</th>\n",
       "      <th>ClaimLegitimacy</th>\n",
       "    </tr>\n",
       "  </thead>\n",
       "  <tbody>\n",
       "    <tr>\n",
       "      <th>0</th>\n",
       "      <td>7820.52</td>\n",
       "      <td>96</td>\n",
       "      <td>0</td>\n",
       "      <td>57595.11</td>\n",
       "      <td>2</td>\n",
       "      <td>0</td>\n",
       "      <td>1</td>\n",
       "      <td>1</td>\n",
       "      <td>0</td>\n",
       "    </tr>\n",
       "    <tr>\n",
       "      <th>1</th>\n",
       "      <td>5453.86</td>\n",
       "      <td>95</td>\n",
       "      <td>1</td>\n",
       "      <td>140772.72</td>\n",
       "      <td>3</td>\n",
       "      <td>0</td>\n",
       "      <td>1</td>\n",
       "      <td>0</td>\n",
       "      <td>0</td>\n",
       "    </tr>\n",
       "    <tr>\n",
       "      <th>2</th>\n",
       "      <td>8229.86</td>\n",
       "      <td>10</td>\n",
       "      <td>1</td>\n",
       "      <td>69803.19</td>\n",
       "      <td>1</td>\n",
       "      <td>2</td>\n",
       "      <td>0</td>\n",
       "      <td>0</td>\n",
       "      <td>0</td>\n",
       "    </tr>\n",
       "    <tr>\n",
       "      <th>3</th>\n",
       "      <td>9519.16</td>\n",
       "      <td>59</td>\n",
       "      <td>0</td>\n",
       "      <td>135530.12</td>\n",
       "      <td>1</td>\n",
       "      <td>0</td>\n",
       "      <td>3</td>\n",
       "      <td>2</td>\n",
       "      <td>0</td>\n",
       "    </tr>\n",
       "    <tr>\n",
       "      <th>4</th>\n",
       "      <td>3226.15</td>\n",
       "      <td>36</td>\n",
       "      <td>0</td>\n",
       "      <td>36995.52</td>\n",
       "      <td>0</td>\n",
       "      <td>3</td>\n",
       "      <td>1</td>\n",
       "      <td>2</td>\n",
       "      <td>0</td>\n",
       "    </tr>\n",
       "  </tbody>\n",
       "</table>\n",
       "</div>"
      ],
      "text/plain": [
       "   ClaimAmount  PatientAge  PatientGender  PatientIncome  \\\n",
       "0      7820.52          96              0       57595.11   \n",
       "1      5453.86          95              1      140772.72   \n",
       "2      8229.86          10              1       69803.19   \n",
       "3      9519.16          59              0      135530.12   \n",
       "4      3226.15          36              0       36995.52   \n",
       "\n",
       "   PatientMaritalStatus  PatientEmploymentStatus  ClaimType  \\\n",
       "0                     2                        0          1   \n",
       "1                     3                        0          1   \n",
       "2                     1                        2          0   \n",
       "3                     1                        0          3   \n",
       "4                     0                        3          1   \n",
       "\n",
       "   ClaimSubmissionMethod  ClaimLegitimacy  \n",
       "0                      1                0  \n",
       "1                      0                0  \n",
       "2                      0                0  \n",
       "3                      2                0  \n",
       "4                      2                0  "
      ]
     },
     "execution_count": 41,
     "metadata": {},
     "output_type": "execute_result"
    }
   ],
   "source": [
    "df.head()"
   ]
  },
  {
   "cell_type": "code",
   "execution_count": 42,
   "id": "aabc8d55",
   "metadata": {},
   "outputs": [
    {
     "data": {
      "text/plain": [
       "(4500, 9)"
      ]
     },
     "execution_count": 42,
     "metadata": {},
     "output_type": "execute_result"
    }
   ],
   "source": [
    "df.shape"
   ]
  },
  {
   "cell_type": "code",
   "execution_count": 43,
   "id": "0bd380ac",
   "metadata": {},
   "outputs": [],
   "source": [
    "# Step 2: Shuffle the dataset randomly\n",
    "df = df.sample(frac=1, random_state=42).reset_index(drop=True)"
   ]
  },
  {
   "cell_type": "code",
   "execution_count": 44,
   "id": "abe008f3",
   "metadata": {},
   "outputs": [],
   "source": [
    "# Step 3: Calculate the split index for 70%\n",
    "split_index = int(0.7 * len(df))"
   ]
  },
  {
   "cell_type": "code",
   "execution_count": 45,
   "id": "f9439fbd",
   "metadata": {},
   "outputs": [
    {
     "data": {
      "text/plain": [
       "Index(['ClaimAmount', 'PatientAge', 'PatientGender', 'PatientIncome',\n",
       "       'PatientMaritalStatus', 'PatientEmploymentStatus', 'ClaimType',\n",
       "       'ClaimSubmissionMethod', 'ClaimLegitimacy'],\n",
       "      dtype='object')"
      ]
     },
     "execution_count": 45,
     "metadata": {},
     "output_type": "execute_result"
    }
   ],
   "source": [
    "df.columns"
   ]
  },
  {
   "cell_type": "code",
   "execution_count": 46,
   "id": "24eff71c",
   "metadata": {},
   "outputs": [],
   "source": [
    "# Split dataset\n",
    "df_70 = df.iloc[:split_index]\n",
    "df_30 = df.iloc[split_index:]"
   ]
  },
  {
   "cell_type": "code",
   "execution_count": 47,
   "id": "5a5f4eff",
   "metadata": {},
   "outputs": [
    {
     "name": "stdout",
     "output_type": "stream",
     "text": [
      "✅ Data split into 4 files and saved successfully.\n"
     ]
    }
   ],
   "source": [
    "# Save 70% with target\n",
    "df_70.to_csv(\"dataset_70_percent_with_target.csv\", index=False)\n",
    " \n",
    "# Save 30% with target\n",
    "df_30.to_csv(\"dataset_30_percent_with_target.csv\", index=False)\n",
    " \n",
    "print(\"✅ Data split into 4 files and saved successfully.\")\n",
    " "
   ]
  },
  {
   "cell_type": "code",
   "execution_count": 48,
   "id": "3564ed2f",
   "metadata": {},
   "outputs": [],
   "source": [
    "import pandas as pd\n",
    "import numpy as np\n",
    "from sklearn.preprocessing import LabelEncoder, StandardScaler\n",
    "from sklearn.neighbors import LocalOutlierFactor\n",
    "from sklearn.model_selection import train_test_split\n",
    "from sklearn.metrics import confusion_matrix, classification_report, accuracy_score\n",
    "from scipy.stats import f_oneway\n",
    "import pickle"
   ]
  },
  {
   "cell_type": "code",
   "execution_count": 49,
   "id": "29b33307",
   "metadata": {},
   "outputs": [],
   "source": [
    "# Load and preprocess data\n",
    "df = pd.read_csv(\"dataset_70_percent_with_target.csv\")"
   ]
  },
  {
   "cell_type": "code",
   "execution_count": 50,
   "id": "a4dfc754",
   "metadata": {},
   "outputs": [
    {
     "name": "stdout",
     "output_type": "stream",
     "text": [
      "Count of negative values per numeric column:\n",
      "Series([], dtype: int64)\n"
     ]
    }
   ],
   "source": [
    "# Select only numeric columns\n",
    "numeric_cols = df.select_dtypes(include=['number']).columns\n",
    "\n",
    "# Check for negative values only in numeric columns\n",
    "negative_values = (df[numeric_cols] < 0).sum()\n",
    "print(\"Count of negative values per numeric column:\")\n",
    "print(negative_values[negative_values > 0])  # show columns with negatives only"
   ]
  },
  {
   "cell_type": "code",
   "execution_count": 51,
   "id": "4d2a67df",
   "metadata": {},
   "outputs": [
    {
     "name": "stdout",
     "output_type": "stream",
     "text": [
      "Number of duplicate rows: 0\n"
     ]
    }
   ],
   "source": [
    "# Check for duplicate rows\n",
    "duplicates = df.duplicated().sum()\n",
    "print(f\"Number of duplicate rows: {duplicates}\")\n",
    "\n",
    "# Optional: display duplicates if you want to inspect\n",
    "if duplicates > 0:\n",
    "    print(\"Duplicate rows:\")\n",
    "    print(df[df.duplicated()])"
   ]
  },
  {
   "cell_type": "code",
   "execution_count": 52,
   "id": "e2c049bb",
   "metadata": {},
   "outputs": [],
   "source": [
    "df = df.drop_duplicates()"
   ]
  },
  {
   "cell_type": "code",
   "execution_count": 53,
   "id": "ea2c272f",
   "metadata": {},
   "outputs": [
    {
     "data": {
      "text/plain": [
       "0"
      ]
     },
     "execution_count": 53,
     "metadata": {},
     "output_type": "execute_result"
    }
   ],
   "source": [
    "df.duplicated().sum()"
   ]
  },
  {
   "cell_type": "code",
   "execution_count": 54,
   "id": "fc158cb5",
   "metadata": {},
   "outputs": [
    {
     "data": {
      "text/plain": [
       "ClaimAmount                0\n",
       "PatientAge                 0\n",
       "PatientGender              0\n",
       "PatientIncome              0\n",
       "PatientMaritalStatus       0\n",
       "PatientEmploymentStatus    0\n",
       "ClaimType                  0\n",
       "ClaimSubmissionMethod      0\n",
       "ClaimLegitimacy            0\n",
       "dtype: int64"
      ]
     },
     "execution_count": 54,
     "metadata": {},
     "output_type": "execute_result"
    }
   ],
   "source": [
    "df.isnull().sum()"
   ]
  },
  {
   "cell_type": "code",
   "execution_count": 55,
   "id": "3f456216",
   "metadata": {},
   "outputs": [
    {
     "data": {
      "text/html": [
       "<div>\n",
       "<style scoped>\n",
       "    .dataframe tbody tr th:only-of-type {\n",
       "        vertical-align: middle;\n",
       "    }\n",
       "\n",
       "    .dataframe tbody tr th {\n",
       "        vertical-align: top;\n",
       "    }\n",
       "\n",
       "    .dataframe thead th {\n",
       "        text-align: right;\n",
       "    }\n",
       "</style>\n",
       "<table border=\"1\" class=\"dataframe\">\n",
       "  <thead>\n",
       "    <tr style=\"text-align: right;\">\n",
       "      <th></th>\n",
       "      <th>ClaimAmount</th>\n",
       "      <th>PatientAge</th>\n",
       "      <th>PatientGender</th>\n",
       "      <th>PatientIncome</th>\n",
       "      <th>PatientMaritalStatus</th>\n",
       "      <th>PatientEmploymentStatus</th>\n",
       "      <th>ClaimType</th>\n",
       "      <th>ClaimSubmissionMethod</th>\n",
       "      <th>ClaimLegitimacy</th>\n",
       "    </tr>\n",
       "  </thead>\n",
       "  <tbody>\n",
       "    <tr>\n",
       "      <th>0</th>\n",
       "      <td>1703.04</td>\n",
       "      <td>30</td>\n",
       "      <td>1</td>\n",
       "      <td>61778.09</td>\n",
       "      <td>3</td>\n",
       "      <td>0</td>\n",
       "      <td>3</td>\n",
       "      <td>1</td>\n",
       "      <td>0</td>\n",
       "    </tr>\n",
       "    <tr>\n",
       "      <th>1</th>\n",
       "      <td>5251.05</td>\n",
       "      <td>86</td>\n",
       "      <td>1</td>\n",
       "      <td>134484.58</td>\n",
       "      <td>2</td>\n",
       "      <td>0</td>\n",
       "      <td>2</td>\n",
       "      <td>0</td>\n",
       "      <td>0</td>\n",
       "    </tr>\n",
       "    <tr>\n",
       "      <th>2</th>\n",
       "      <td>5017.28</td>\n",
       "      <td>98</td>\n",
       "      <td>1</td>\n",
       "      <td>50423.66</td>\n",
       "      <td>1</td>\n",
       "      <td>2</td>\n",
       "      <td>1</td>\n",
       "      <td>0</td>\n",
       "      <td>0</td>\n",
       "    </tr>\n",
       "    <tr>\n",
       "      <th>3</th>\n",
       "      <td>838.05</td>\n",
       "      <td>14</td>\n",
       "      <td>1</td>\n",
       "      <td>57209.16</td>\n",
       "      <td>3</td>\n",
       "      <td>0</td>\n",
       "      <td>1</td>\n",
       "      <td>2</td>\n",
       "      <td>0</td>\n",
       "    </tr>\n",
       "    <tr>\n",
       "      <th>4</th>\n",
       "      <td>5204.40</td>\n",
       "      <td>4</td>\n",
       "      <td>0</td>\n",
       "      <td>113162.15</td>\n",
       "      <td>3</td>\n",
       "      <td>3</td>\n",
       "      <td>3</td>\n",
       "      <td>0</td>\n",
       "      <td>0</td>\n",
       "    </tr>\n",
       "    <tr>\n",
       "      <th>...</th>\n",
       "      <td>...</td>\n",
       "      <td>...</td>\n",
       "      <td>...</td>\n",
       "      <td>...</td>\n",
       "      <td>...</td>\n",
       "      <td>...</td>\n",
       "      <td>...</td>\n",
       "      <td>...</td>\n",
       "      <td>...</td>\n",
       "    </tr>\n",
       "    <tr>\n",
       "      <th>3145</th>\n",
       "      <td>8242.56</td>\n",
       "      <td>2</td>\n",
       "      <td>0</td>\n",
       "      <td>23902.63</td>\n",
       "      <td>3</td>\n",
       "      <td>2</td>\n",
       "      <td>2</td>\n",
       "      <td>0</td>\n",
       "      <td>1</td>\n",
       "    </tr>\n",
       "    <tr>\n",
       "      <th>3146</th>\n",
       "      <td>6034.67</td>\n",
       "      <td>0</td>\n",
       "      <td>1</td>\n",
       "      <td>137180.29</td>\n",
       "      <td>3</td>\n",
       "      <td>3</td>\n",
       "      <td>3</td>\n",
       "      <td>1</td>\n",
       "      <td>0</td>\n",
       "    </tr>\n",
       "    <tr>\n",
       "      <th>3147</th>\n",
       "      <td>9344.12</td>\n",
       "      <td>14</td>\n",
       "      <td>0</td>\n",
       "      <td>49529.38</td>\n",
       "      <td>1</td>\n",
       "      <td>1</td>\n",
       "      <td>3</td>\n",
       "      <td>0</td>\n",
       "      <td>1</td>\n",
       "    </tr>\n",
       "    <tr>\n",
       "      <th>3148</th>\n",
       "      <td>2106.06</td>\n",
       "      <td>84</td>\n",
       "      <td>1</td>\n",
       "      <td>54665.30</td>\n",
       "      <td>0</td>\n",
       "      <td>1</td>\n",
       "      <td>2</td>\n",
       "      <td>2</td>\n",
       "      <td>0</td>\n",
       "    </tr>\n",
       "    <tr>\n",
       "      <th>3149</th>\n",
       "      <td>351.32</td>\n",
       "      <td>52</td>\n",
       "      <td>1</td>\n",
       "      <td>111355.98</td>\n",
       "      <td>2</td>\n",
       "      <td>3</td>\n",
       "      <td>3</td>\n",
       "      <td>2</td>\n",
       "      <td>0</td>\n",
       "    </tr>\n",
       "  </tbody>\n",
       "</table>\n",
       "<p>3150 rows × 9 columns</p>\n",
       "</div>"
      ],
      "text/plain": [
       "      ClaimAmount  PatientAge  PatientGender  PatientIncome  \\\n",
       "0         1703.04          30              1       61778.09   \n",
       "1         5251.05          86              1      134484.58   \n",
       "2         5017.28          98              1       50423.66   \n",
       "3          838.05          14              1       57209.16   \n",
       "4         5204.40           4              0      113162.15   \n",
       "...           ...         ...            ...            ...   \n",
       "3145      8242.56           2              0       23902.63   \n",
       "3146      6034.67           0              1      137180.29   \n",
       "3147      9344.12          14              0       49529.38   \n",
       "3148      2106.06          84              1       54665.30   \n",
       "3149       351.32          52              1      111355.98   \n",
       "\n",
       "      PatientMaritalStatus  PatientEmploymentStatus  ClaimType  \\\n",
       "0                        3                        0          3   \n",
       "1                        2                        0          2   \n",
       "2                        1                        2          1   \n",
       "3                        3                        0          1   \n",
       "4                        3                        3          3   \n",
       "...                    ...                      ...        ...   \n",
       "3145                     3                        2          2   \n",
       "3146                     3                        3          3   \n",
       "3147                     1                        1          3   \n",
       "3148                     0                        1          2   \n",
       "3149                     2                        3          3   \n",
       "\n",
       "      ClaimSubmissionMethod  ClaimLegitimacy  \n",
       "0                         1                0  \n",
       "1                         0                0  \n",
       "2                         0                0  \n",
       "3                         2                0  \n",
       "4                         0                0  \n",
       "...                     ...              ...  \n",
       "3145                      0                1  \n",
       "3146                      1                0  \n",
       "3147                      0                1  \n",
       "3148                      2                0  \n",
       "3149                      2                0  \n",
       "\n",
       "[3150 rows x 9 columns]"
      ]
     },
     "execution_count": 55,
     "metadata": {},
     "output_type": "execute_result"
    }
   ],
   "source": [
    "df"
   ]
  },
  {
   "cell_type": "code",
   "execution_count": 56,
   "id": "746235c3",
   "metadata": {},
   "outputs": [
    {
     "data": {
      "text/plain": [
       "Index(['ClaimAmount', 'PatientAge', 'PatientGender', 'PatientIncome',\n",
       "       'PatientMaritalStatus', 'PatientEmploymentStatus', 'ClaimType',\n",
       "       'ClaimSubmissionMethod', 'ClaimLegitimacy'],\n",
       "      dtype='object')"
      ]
     },
     "execution_count": 56,
     "metadata": {},
     "output_type": "execute_result"
    }
   ],
   "source": [
    "df.columns"
   ]
  },
  {
   "cell_type": "code",
   "execution_count": 57,
   "id": "c694b46b",
   "metadata": {},
   "outputs": [],
   "source": [
    "# Separate features and target\n",
    "X = df.drop(\"ClaimLegitimacy\", axis=1)\n",
    "y = df[\"ClaimLegitimacy\"]"
   ]
  },
  {
   "cell_type": "code",
   "execution_count": 58,
   "id": "2ea23723",
   "metadata": {},
   "outputs": [
    {
     "name": "stdout",
     "output_type": "stream",
     "text": [
      "Selected Important Features based on ANOVA (p < 0.05):\n",
      "['PatientIncome', 'ClaimAmount']\n"
     ]
    }
   ],
   "source": [
    "from sklearn.feature_selection import SelectKBest, f_classif\n",
    "import pandas as pd\n",
    "\n",
    "# Run ANOVA F-test\n",
    "selector = SelectKBest(score_func=f_classif, k='all')\n",
    "X_selected = selector.fit_transform(X, y)\n",
    "\n",
    "# Get scores and p-values\n",
    "f_scores = selector.scores_\n",
    "p_values = selector.pvalues_\n",
    "\n",
    "# Combine into a DataFrame\n",
    "anova_df = pd.DataFrame({\n",
    "    'Feature': X.columns,\n",
    "    'F-Score': f_scores,\n",
    "    'p-Value': p_values\n",
    "}).sort_values(by='F-Score', ascending=False)\n",
    "\n",
    "# Filter for important features (e.g., p < 0.05)\n",
    "important_features = anova_df[anova_df['p-Value'] < 0.05]['Feature'].tolist()\n",
    "\n",
    "print(\"Selected Important Features based on ANOVA (p < 0.05):\")\n",
    "print(important_features)\n",
    "\n",
    "# Create new DataFrame with only selected features\n",
    "X_selected_df = df[important_features]"
   ]
  },
  {
   "cell_type": "code",
   "execution_count": 59,
   "id": "fee8d8da",
   "metadata": {},
   "outputs": [],
   "source": [
    "# Columns\n",
    "# continuous_cols = ['ClaimAmount', 'PatientIncome', 'PatientAge']\n",
    "# other_cols = [col for col in X.columns if col not in continuous_cols]\n",
    "\n",
    "# Apply StandardScaler only to continuous columns\n",
    "scaler = StandardScaler()\n",
    "X_scaled_df = scaler.fit_transform(X_selected_df)"
   ]
  },
  {
   "cell_type": "code",
   "execution_count": 60,
   "id": "a607026e",
   "metadata": {},
   "outputs": [],
   "source": [
    "X_scaled_df = pd.DataFrame(X_scaled_df, columns=X_selected_df.columns, index=X.index)"
   ]
  },
  {
   "cell_type": "code",
   "execution_count": 61,
   "id": "578ef2c7",
   "metadata": {},
   "outputs": [
    {
     "data": {
      "text/html": [
       "<div>\n",
       "<style scoped>\n",
       "    .dataframe tbody tr th:only-of-type {\n",
       "        vertical-align: middle;\n",
       "    }\n",
       "\n",
       "    .dataframe tbody tr th {\n",
       "        vertical-align: top;\n",
       "    }\n",
       "\n",
       "    .dataframe thead th {\n",
       "        text-align: right;\n",
       "    }\n",
       "</style>\n",
       "<table border=\"1\" class=\"dataframe\">\n",
       "  <thead>\n",
       "    <tr style=\"text-align: right;\">\n",
       "      <th></th>\n",
       "      <th>PatientIncome</th>\n",
       "      <th>ClaimAmount</th>\n",
       "    </tr>\n",
       "  </thead>\n",
       "  <tbody>\n",
       "    <tr>\n",
       "      <th>0</th>\n",
       "      <td>-0.612834</td>\n",
       "      <td>-1.176237</td>\n",
       "    </tr>\n",
       "    <tr>\n",
       "      <th>1</th>\n",
       "      <td>1.346560</td>\n",
       "      <td>0.069673</td>\n",
       "    </tr>\n",
       "    <tr>\n",
       "      <th>2</th>\n",
       "      <td>-0.918828</td>\n",
       "      <td>-0.012417</td>\n",
       "    </tr>\n",
       "    <tr>\n",
       "      <th>3</th>\n",
       "      <td>-0.735963</td>\n",
       "      <td>-1.479984</td>\n",
       "    </tr>\n",
       "    <tr>\n",
       "      <th>4</th>\n",
       "      <td>0.771934</td>\n",
       "      <td>0.053292</td>\n",
       "    </tr>\n",
       "    <tr>\n",
       "      <th>...</th>\n",
       "      <td>...</td>\n",
       "      <td>...</td>\n",
       "    </tr>\n",
       "    <tr>\n",
       "      <th>3145</th>\n",
       "      <td>-1.633553</td>\n",
       "      <td>1.120164</td>\n",
       "    </tr>\n",
       "    <tr>\n",
       "      <th>3146</th>\n",
       "      <td>1.419208</td>\n",
       "      <td>0.344847</td>\n",
       "    </tr>\n",
       "    <tr>\n",
       "      <th>3147</th>\n",
       "      <td>-0.942929</td>\n",
       "      <td>1.506985</td>\n",
       "    </tr>\n",
       "    <tr>\n",
       "      <th>3148</th>\n",
       "      <td>-0.804519</td>\n",
       "      <td>-1.034713</td>\n",
       "    </tr>\n",
       "    <tr>\n",
       "      <th>3149</th>\n",
       "      <td>0.723259</td>\n",
       "      <td>-1.650903</td>\n",
       "    </tr>\n",
       "  </tbody>\n",
       "</table>\n",
       "<p>3150 rows × 2 columns</p>\n",
       "</div>"
      ],
      "text/plain": [
       "      PatientIncome  ClaimAmount\n",
       "0         -0.612834    -1.176237\n",
       "1          1.346560     0.069673\n",
       "2         -0.918828    -0.012417\n",
       "3         -0.735963    -1.479984\n",
       "4          0.771934     0.053292\n",
       "...             ...          ...\n",
       "3145      -1.633553     1.120164\n",
       "3146       1.419208     0.344847\n",
       "3147      -0.942929     1.506985\n",
       "3148      -0.804519    -1.034713\n",
       "3149       0.723259    -1.650903\n",
       "\n",
       "[3150 rows x 2 columns]"
      ]
     },
     "execution_count": 61,
     "metadata": {},
     "output_type": "execute_result"
    }
   ],
   "source": [
    "X_scaled_df"
   ]
  },
  {
   "cell_type": "code",
   "execution_count": 62,
   "id": "6e8b08cf",
   "metadata": {},
   "outputs": [
    {
     "name": "stdout",
     "output_type": "stream",
     "text": [
      "Training Data Columns: ['PatientIncome', 'ClaimAmount']\n",
      "Model fitted successfully\n"
     ]
    }
   ],
   "source": [
    "# Split into 80% training and 20% testing\n",
    "X_train, X_test, y_train, y_test = train_test_split(X_scaled_df, y, test_size=0.2, random_state=42)\n",
    "\n",
    "# Save scaler for inference\n",
    "with open('scaler.pkl', 'wb') as f:\n",
    "    pickle.dump(scaler, f)\n",
    "\n",
    "# Train LOF model with novelty=True\n",
    "lof = LocalOutlierFactor(n_neighbors=10, contamination=0.05, novelty=True)\n",
    "print(\"Training Data Columns:\", X_train.columns.tolist())\n",
    "lof.fit(X_train)\n",
    "print(\"Model fitted successfully\")\n",
    "\n",
    "lof.fit(X_train)  # fit only\n",
    "\n",
    "# Save the trained LOF model to a pickle file\n",
    "with open('lof_model.pkl', 'wb') as f:\n",
    "    pickle.dump(lof, f)"
   ]
  },
  {
   "cell_type": "code",
   "execution_count": 63,
   "id": "2867c1f5",
   "metadata": {},
   "outputs": [
    {
     "name": "stdout",
     "output_type": "stream",
     "text": [
      "<class 'pandas.core.frame.DataFrame'>\n",
      "Training Performance:\n",
      "Confusion Matrix:\n",
      " [[2281   90]\n",
      " [ 146    3]]\n",
      "\n",
      "Classification Report:\n",
      "               precision    recall  f1-score   support\n",
      "\n",
      "           0       0.94      0.96      0.95      2371\n",
      "           1       0.03      0.02      0.02       149\n",
      "\n",
      "    accuracy                           0.91      2520\n",
      "   macro avg       0.49      0.49      0.49      2520\n",
      "weighted avg       0.89      0.91      0.90      2520\n",
      "\n",
      "\n",
      "Accuracy Score: 0.9063492063492063\n"
     ]
    },
    {
     "name": "stderr",
     "output_type": "stream",
     "text": [
      "c:\\Users\\DELL\\anaconda3\\Lib\\site-packages\\sklearn\\base.py:493: UserWarning: X does not have valid feature names, but LocalOutlierFactor was fitted with feature names\n",
      "  warnings.warn(\n"
     ]
    },
    {
     "data": {
      "image/png": "[encoded data removed]",
      "text/plain": [
       "<Figure size 600x400 with 2 Axes>"
      ]
     },
     "metadata": {},
     "output_type": "display_data"
    }
   ],
   "source": [
    "import matplotlib.pyplot as plt\n",
    "import seaborn as sns\n",
    "from sklearn.metrics import classification_report, confusion_matrix, accuracy_score, precision_recall_fscore_support\n",
    "import numpy as np\n",
    "\n",
    "# Predict on training data for evaluation\n",
    "print(type(X_train))  # should output: <class 'pandas.core.frame.DataFrame'>\n",
    "\n",
    "train_preds = lof.predict(X_train)\n",
    "train_preds = np.where(train_preds == -1, 1, 0)  # -1 means anomaly, convert to 1\n",
    "\n",
    "# Text output\n",
    "print(\"Training Performance:\")\n",
    "print(\"Confusion Matrix:\\n\", confusion_matrix(y_train, train_preds))\n",
    "print(\"\\nClassification Report:\\n\", classification_report(y_train, train_preds))\n",
    "print(\"\\nAccuracy Score:\", accuracy_score(y_train, train_preds))\n",
    "\n",
    "# Confusion matrix plot\n",
    "cm = confusion_matrix(y_train, train_preds)\n",
    "plt.figure(figsize=(6,4))\n",
    "sns.heatmap(cm, annot=True, fmt='d', cmap='Blues', xticklabels=['Predicted Not Fraud', 'Predicted Fraud'], yticklabels=['Actual Not Fraud', 'Actual Fraud'])\n",
    "plt.title('Confusion Matrix')\n",
    "plt.ylabel('True label')\n",
    "plt.xlabel('Predicted label')\n",
    "plt.show()\n",
    "\n",
    "# Classification report metrics (precision, recall, f1-score)\n",
    "report = classification_report(y_train, train_preds, output_dict=True)\n",
    "labels = ['0', '1']  # 0: Not Fraud, 1: Fraud\n",
    "\n",
    "precision = [report[label]['precision'] for label in labels]\n",
    "recall = [report[label]['recall'] for label in labels]\n",
    "f1 = [report[label]['f1-score'] for label in labels]\n"
   ]
  }
 ],
 "metadata": {
  "kernelspec": {
   "display_name": "base",
   "language": "python",
   "name": "python3"
  },
  "language_info": {
   "codemirror_mode": {
    "name": "ipython",
    "version": 3
   },
   "file_extension": ".py",
   "mimetype": "text/x-python",
   "name": "python",
   "nbconvert_exporter": "python",
   "pygments_lexer": "ipython3",
   "version": "3.12.7"
  }
 },
 "nbformat": 4,
 "nbformat_minor": 5
}
