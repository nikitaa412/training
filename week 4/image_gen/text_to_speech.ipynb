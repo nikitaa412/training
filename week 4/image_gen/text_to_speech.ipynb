{
 "cells": [
  {
   "cell_type": "code",
   "execution_count": null,
   "id": "928441f7",
   "metadata": {},
   "outputs": [
    {
     "name": "stdout",
     "output_type": "stream",
     "text": [
      "Note: you may need to restart the kernel to use updated packages.\n",
      "Collecting suno-bark\n",
      "  Downloading suno_bark-0.1.5-py3-none-any.whl.metadata (15 kB)\n",
      "Collecting boto3 (from suno-bark)\n",
      "  Downloading boto3-1.38.23-py3-none-any.whl.metadata (6.6 kB)\n",
      "Collecting encodec (from suno-bark)\n",
      "  Downloading encodec-0.1.1.tar.gz (3.7 MB)\n",
      "     ---------------------------------------- 0.0/3.7 MB ? eta -:--:--\n",
      "     -------- ------------------------------- 0.8/3.7 MB 5.6 MB/s eta 0:00:01\n",
      "     ---------------------- ----------------- 2.1/3.7 MB 6.2 MB/s eta 0:00:01\n",
      "     --------------------------------- ------ 3.1/3.7 MB 5.4 MB/s eta 0:00:01\n",
      "     ---------------------------------------- 3.7/3.7 MB 5.3 MB/s eta 0:00:00\n",
      "  Preparing metadata (setup.py): started\n",
      "  Preparing metadata (setup.py): finished with status 'done'\n",
      "Collecting funcy (from suno-bark)\n",
      "  Downloading funcy-2.0-py2.py3-none-any.whl.metadata (5.9 kB)\n",
      "Requirement already satisfied: huggingface-hub>=0.14.1 in c:\\users\\nikitarampurkarv-sof\\anaconda3\\lib\\site-packages (from suno-bark) (0.32.0)\n",
      "Requirement already satisfied: numpy in c:\\users\\nikitarampurkarv-sof\\anaconda3\\lib\\site-packages (from suno-bark) (1.26.4)\n",
      "Requirement already satisfied: scipy in c:\\users\\nikitarampurkarv-sof\\anaconda3\\lib\\site-packages (from suno-bark) (1.13.1)\n",
      "Requirement already satisfied: tokenizers in c:\\users\\nikitarampurkarv-sof\\anaconda3\\lib\\site-packages (from suno-bark) (0.21.1)\n",
      "Requirement already satisfied: torch in c:\\users\\nikitarampurkarv-sof\\anaconda3\\lib\\site-packages (from suno-bark) (2.5.1+cu121)\n",
      "Requirement already satisfied: tqdm in c:\\users\\nikitarampurkarv-sof\\anaconda3\\lib\\site-packages (from suno-bark) (4.67.1)\n",
      "Requirement already satisfied: transformers in c:\\users\\nikitarampurkarv-sof\\anaconda3\\lib\\site-packages (from suno-bark) (4.51.3)\n",
      "Requirement already satisfied: filelock in c:\\users\\nikitarampurkarv-sof\\anaconda3\\lib\\site-packages (from huggingface-hub>=0.14.1->suno-bark) (3.18.0)\n",
      "Requirement already satisfied: fsspec>=2023.5.0 in c:\\users\\nikitarampurkarv-sof\\anaconda3\\lib\\site-packages (from huggingface-hub>=0.14.1->suno-bark) (2025.5.1)\n",
      "Requirement already satisfied: packaging>=20.9 in c:\\users\\nikitarampurkarv-sof\\anaconda3\\lib\\site-packages (from huggingface-hub>=0.14.1->suno-bark) (25.0)\n",
      "Requirement already satisfied: pyyaml>=5.1 in c:\\users\\nikitarampurkarv-sof\\anaconda3\\lib\\site-packages (from huggingface-hub>=0.14.1->suno-bark) (6.0.2)\n",
      "Requirement already satisfied: requests in c:\\users\\nikitarampurkarv-sof\\anaconda3\\lib\\site-packages (from huggingface-hub>=0.14.1->suno-bark) (2.32.3)\n",
      "Requirement already satisfied: typing-extensions>=3.7.4.3 in c:\\users\\nikitarampurkarv-sof\\anaconda3\\lib\\site-packages (from huggingface-hub>=0.14.1->suno-bark) (4.13.2)\n",
      "Requirement already satisfied: colorama in c:\\users\\nikitarampurkarv-sof\\anaconda3\\lib\\site-packages (from tqdm->suno-bark) (0.4.6)\n",
      "Collecting botocore<1.39.0,>=1.38.23 (from boto3->suno-bark)\n",
      "  Downloading botocore-1.38.23-py3-none-any.whl.metadata (5.7 kB)\n",
      "Requirement already satisfied: jmespath<2.0.0,>=0.7.1 in c:\\users\\nikitarampurkarv-sof\\anaconda3\\lib\\site-packages (from boto3->suno-bark) (1.0.1)\n",
      "Collecting s3transfer<0.14.0,>=0.13.0 (from boto3->suno-bark)\n",
      "  Downloading s3transfer-0.13.0-py3-none-any.whl.metadata (1.7 kB)\n",
      "Requirement already satisfied: torchaudio in c:\\users\\nikitarampurkarv-sof\\anaconda3\\lib\\site-packages (from encodec->suno-bark) (2.5.1+cu121)\n",
      "Collecting einops (from encodec->suno-bark)\n",
      "  Downloading einops-0.8.1-py3-none-any.whl.metadata (13 kB)\n",
      "Requirement already satisfied: networkx in c:\\users\\nikitarampurkarv-sof\\anaconda3\\lib\\site-packages (from torch->suno-bark) (3.3)\n",
      "Requirement already satisfied: jinja2 in c:\\users\\nikitarampurkarv-sof\\anaconda3\\lib\\site-packages (from torch->suno-bark) (3.1.4)\n",
      "Requirement already satisfied: setuptools in c:\\users\\nikitarampurkarv-sof\\anaconda3\\lib\\site-packages (from torch->suno-bark) (75.1.0)\n",
      "Requirement already satisfied: sympy==1.13.1 in c:\\users\\nikitarampurkarv-sof\\anaconda3\\lib\\site-packages (from torch->suno-bark) (1.13.1)\n",
      "Requirement already satisfied: mpmath<1.4,>=1.1.0 in c:\\users\\nikitarampurkarv-sof\\anaconda3\\lib\\site-packages (from sympy==1.13.1->torch->suno-bark) (1.3.0)\n",
      "Requirement already satisfied: regex!=2019.12.17 in c:\\users\\nikitarampurkarv-sof\\anaconda3\\lib\\site-packages (from transformers->suno-bark) (2024.9.11)\n",
      "Requirement already satisfied: safetensors>=0.4.3 in c:\\users\\nikitarampurkarv-sof\\anaconda3\\lib\\site-packages (from transformers->suno-bark) (0.5.3)\n",
      "Requirement already satisfied: python-dateutil<3.0.0,>=2.1 in c:\\users\\nikitarampurkarv-sof\\anaconda3\\lib\\site-packages (from botocore<1.39.0,>=1.38.23->boto3->suno-bark) (2.9.0.post0)\n",
      "Requirement already satisfied: urllib3!=2.2.0,<3,>=1.25.4 in c:\\users\\nikitarampurkarv-sof\\anaconda3\\lib\\site-packages (from botocore<1.39.0,>=1.38.23->boto3->suno-bark) (2.4.0)\n",
      "Requirement already satisfied: MarkupSafe>=2.0 in c:\\users\\nikitarampurkarv-sof\\anaconda3\\lib\\site-packages (from jinja2->torch->suno-bark) (2.1.3)\n",
      "Requirement already satisfied: charset-normalizer<4,>=2 in c:\\users\\nikitarampurkarv-sof\\anaconda3\\lib\\site-packages (from requests->huggingface-hub>=0.14.1->suno-bark) (3.4.2)\n",
      "Requirement already satisfied: idna<4,>=2.5 in c:\\users\\nikitarampurkarv-sof\\anaconda3\\lib\\site-packages (from requests->huggingface-hub>=0.14.1->suno-bark) (3.10)\n",
      "Requirement already satisfied: certifi>=2017.4.17 in c:\\users\\nikitarampurkarv-sof\\anaconda3\\lib\\site-packages (from requests->huggingface-hub>=0.14.1->suno-bark) (2025.4.26)\n",
      "Requirement already satisfied: six>=1.5 in c:\\users\\nikitarampurkarv-sof\\anaconda3\\lib\\site-packages (from python-dateutil<3.0.0,>=2.1->botocore<1.39.0,>=1.38.23->boto3->suno-bark) (1.16.0)\n",
      "Downloading suno_bark-0.1.5-py3-none-any.whl (2.6 MB)\n",
      "   ---------------------------------------- 0.0/2.6 MB ? eta -:--:--\n",
      "   -------------------- ------------------- 1.3/2.6 MB 6.7 MB/s eta 0:00:01\n",
      "   ------------------------ --------------- 1.6/2.6 MB 4.0 MB/s eta 0:00:01\n",
      "   ------------------------------------ --- 2.4/2.6 MB 3.5 MB/s eta 0:00:01\n",
      "   ---------------------------------------- 2.6/2.6 MB 3.6 MB/s eta 0:00:00\n",
      "Downloading boto3-1.38.23-py3-none-any.whl (139 kB)\n",
      "Downloading funcy-2.0-py2.py3-none-any.whl (30 kB)\n",
      "Downloading botocore-1.38.23-py3-none-any.whl (13.6 MB)\n",
      "   ---------------------------------------- 0.0/13.6 MB ? eta -:--:--\n",
      "   -- ------------------------------------- 0.8/13.6 MB 4.8 MB/s eta 0:00:03\n",
      "   ---- ----------------------------------- 1.6/13.6 MB 4.0 MB/s eta 0:00:04\n",
      "   -------- ------------------------------- 2.9/13.6 MB 4.7 MB/s eta 0:00:03\n",
      "   ---------- ----------------------------- 3.4/13.6 MB 4.2 MB/s eta 0:00:03\n",
      "   ------------- -------------------------- 4.7/13.6 MB 4.9 MB/s eta 0:00:02\n",
      "   ----------------- ---------------------- 6.0/13.6 MB 4.9 MB/s eta 0:00:02\n",
      "   -------------------- ------------------- 6.8/13.6 MB 4.7 MB/s eta 0:00:02\n",
      "   -------------------- ------------------- 7.1/13.6 MB 4.5 MB/s eta 0:00:02\n",
      "   ---------------------- ----------------- 7.6/13.6 MB 4.1 MB/s eta 0:00:02\n",
      "   ------------------------ --------------- 8.4/13.6 MB 4.0 MB/s eta 0:00:02\n",
      "   ------------------------ --------------- 8.4/13.6 MB 4.0 MB/s eta 0:00:02\n",
      "   --------------------------- ------------ 9.2/13.6 MB 3.8 MB/s eta 0:00:02\n",
      "   --------------------------- ------------ 9.4/13.6 MB 3.7 MB/s eta 0:00:02\n",
      "   ------------------------------ --------- 10.5/13.6 MB 3.6 MB/s eta 0:00:01\n",
      "   ---------------------------------- ----- 11.8/13.6 MB 3.8 MB/s eta 0:00:01\n",
      "   ------------------------------------- -- 12.8/13.6 MB 3.9 MB/s eta 0:00:01\n",
      "   ---------------------------------------- 13.6/13.6 MB 3.9 MB/s eta 0:00:00\n",
      "Downloading s3transfer-0.13.0-py3-none-any.whl (85 kB)\n",
      "Downloading einops-0.8.1-py3-none-any.whl (64 kB)\n",
      "Building wheels for collected packages: encodec\n",
      "  Building wheel for encodec (setup.py): started\n",
      "  Building wheel for encodec (setup.py): finished with status 'done'\n",
      "  Created wheel for encodec: filename=encodec-0.1.1-py3-none-any.whl size=45804 sha256=59e1f4365b464ef7030ab6e4a7f9d419754f814485c326da5df3a820e0645605\n",
      "  Stored in directory: c:\\users\\nikitarampurkarv-sof\\appdata\\local\\pip\\cache\\wheels\\b8\\eb\\9f\\e13610cc46ab39d3199fbabebd1c3e142d44b679526e0f228a\n",
      "Successfully built encodec\n",
      "Installing collected packages: funcy, einops, botocore, s3transfer, encodec, boto3, suno-bark\n",
      "  Attempting uninstall: botocore\n",
      "    Found existing installation: botocore 1.34.69\n",
      "    Uninstalling botocore-1.34.69:\n",
      "      Successfully uninstalled botocore-1.34.69\n",
      "Successfully installed boto3-1.38.23 botocore-1.38.23 einops-0.8.1 encodec-0.1.1 funcy-2.0 s3transfer-0.13.0 suno-bark-0.1.5\n"
     ]
    },
    {
     "name": "stderr",
     "output_type": "stream",
     "text": [
      "ERROR: pip's dependency resolver does not currently take into account all the packages that are installed. This behaviour is the source of the following dependency conflicts.\n",
      "aiobotocore 2.12.3 requires botocore<1.34.70,>=1.34.41, but you have botocore 1.38.23 which is incompatible.\n",
      "s3fs 2024.6.1 requires fsspec==2024.6.1.*, but you have fsspec 2025.5.1 which is incompatible.\n"
     ]
    }
   ],
   "source": [
    "pip install suno-bark"
   ]
  },
  {
   "cell_type": "code",
   "execution_count": 4,
   "id": "3d022746",
   "metadata": {},
   "outputs": [],
   "source": [
    "import pyttsx3"
   ]
  },
  {
   "cell_type": "code",
   "execution_count": 5,
   "id": "a0f9d3d1",
   "metadata": {},
   "outputs": [],
   "source": [
    "tts_engine = pyttsx3.init()"
   ]
  },
  {
   "cell_type": "code",
   "execution_count": 6,
   "id": "500ae820",
   "metadata": {},
   "outputs": [],
   "source": [
    "tts_engine.setProperty('rate', 100)     # Speed (words per minute set per your request)\n",
    "tts_engine.setProperty('volume', 1.0)   # Volume (0.0 to 1.0)"
   ]
  },
  {
   "cell_type": "code",
   "execution_count": null,
   "id": "bbe31fd3",
   "metadata": {},
   "outputs": [],
   "source": [
    "text = \"wheels on the bus go round and round\""
   ]
  },
  {
   "cell_type": "code",
   "execution_count": 13,
   "id": "79ca478a",
   "metadata": {},
   "outputs": [],
   "source": [
    "tts_engine.say(text)\n",
    "tts_engine.runAndWait()"
   ]
  }
 ],
 "metadata": {
  "kernelspec": {
   "display_name": "base",
   "language": "python",
   "name": "python3"
  },
  "language_info": {
   "codemirror_mode": {
    "name": "ipython",
    "version": 3
   },
   "file_extension": ".py",
   "mimetype": "text/x-python",
   "name": "python",
   "nbconvert_exporter": "python",
   "pygments_lexer": "ipython3",
   "version": "3.12.7"
  }
 },
 "nbformat": 4,
 "nbformat_minor": 5
}
