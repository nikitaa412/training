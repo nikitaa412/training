{
 "cells": [
  {
   "cell_type": "code",
   "execution_count": null,
   "id": "6948d66d",
   "metadata": {},
   "outputs": [],
   "source": [
    "pip install dtale pandas"
   ]
  },
  {
   "cell_type": "code",
   "execution_count": null,
   "id": "7bc75568",
   "metadata": {},
   "outputs": [],
   "source": [
    "pip install pandas"
   ]
  },
  {
   "cell_type": "code",
   "execution_count": null,
   "id": "a40e11df",
   "metadata": {},
   "outputs": [],
   "source": [
    "pip install dtale"
   ]
  },
  {
   "cell_type": "code",
   "execution_count": null,
   "id": "b220b21d",
   "metadata": {},
   "outputs": [],
   "source": [
    "import pandas as pd\n",
    "import dtale\n",
    " \n",
    "# Step 1: Load your data (replace with your own CSV file if needed)\n",
    "df = pd.read_csv('digital_diet_mental_health.csv')  # Make sure this CSV exists in the same folder\n",
    " \n",
    "# Step 2: Start D-Tale GUI for EDA\n",
    "d = dtale.show(df)\n",
    "d.open_browser()"
   ]
  },
  {
   "cell_type": "code",
   "execution_count": null,
   "id": "70dc6960",
   "metadata": {},
   "outputs": [],
   "source": [
    "import pandas as pd\n",
    "import dtale\n",
    " \n",
    "# Step 1: Load your data (replace with your own CSV file if needed)\n",
    "df = pd.read_csv('House Price Prediction Dataset.csv')  # Make sure this CSV exists in the same folder\n",
    " \n",
    "# Step 2: Start D-Tale GUI for EDA\n",
    "d = dtale.show(df)\n",
    "d.open_browser()"
   ]
  },
  {
   "cell_type": "code",
   "execution_count": null,
   "id": "c72a967c",
   "metadata": {},
   "outputs": [],
   "source": [
    "pip install ydata-profiling"
   ]
  },
  {
   "cell_type": "code",
   "execution_count": null,
   "id": "d3b1cf1c",
   "metadata": {},
   "outputs": [],
   "source": [
    "pip install numpy==2.1"
   ]
  },
  {
   "cell_type": "code",
   "execution_count": 15,
   "id": "bc85f024",
   "metadata": {},
   "outputs": [
    {
     "name": "stdout",
     "output_type": "stream",
     "text": [
      "Found existing installation: numpy 2.1.0\n",
      "Uninstalling numpy-2.1.0:\n",
      "  Successfully uninstalled numpy-2.1.0\n",
      "Found existing installation: scipy 1.15.2\n",
      "Uninstalling scipy-1.15.2:\n",
      "  Successfully uninstalled scipy-1.15.2\n",
      "Found existing installation: numba 0.61.0\n",
      "Uninstalling numba-0.61.0:\n",
      "  Successfully uninstalled numba-0.61.0\n",
      "Note: you may need to restart the kernel to use updated packages.\n"
     ]
    },
    {
     "name": "stderr",
     "output_type": "stream",
     "text": [
      "WARNING: Failed to remove contents in a temporary directory 'C:\\Users\\NikitaRampurkarV-Sof\\nikita_vsoft\\tasks\\Data Analysis\\venv\\Lib\\site-packages\\~cipy.libs'.\n",
      "You can safely remove it manually.\n",
      "WARNING: Failed to remove contents in a temporary directory 'C:\\Users\\NikitaRampurkarV-Sof\\nikita_vsoft\\tasks\\Data Analysis\\venv\\Lib\\site-packages\\~cipy'.\n",
      "You can safely remove it manually.\n"
     ]
    }
   ],
   "source": [
    "pip uninstall numpy scipy numba -y"
   ]
  },
  {
   "cell_type": "code",
   "execution_count": 16,
   "id": "f1696d8f",
   "metadata": {},
   "outputs": [
    {
     "name": "stdout",
     "output_type": "stream",
     "text": [
      "Collecting numpy==2.1\n",
      "  Using cached numpy-2.1.0-cp312-cp312-win_amd64.whl.metadata (59 kB)\n",
      "Note: you may need to restart the kernel to use updated packages.\n"
     ]
    },
    {
     "name": "stderr",
     "output_type": "stream",
     "text": [
      "ERROR: Ignored the following yanked versions: 1.11.0, 1.14.0rc1\n",
      "ERROR: Ignored the following versions that require a different python version: 1.10.0 Requires-Python <3.12,>=3.8; 1.10.0rc1 Requires-Python <3.12,>=3.8; 1.10.0rc2 Requires-Python <3.12,>=3.8; 1.10.1 Requires-Python <3.12,>=3.8; 1.21.2 Requires-Python >=3.7,<3.11; 1.21.3 Requires-Python >=3.7,<3.11; 1.21.4 Requires-Python >=3.7,<3.11; 1.21.5 Requires-Python >=3.7,<3.11; 1.21.6 Requires-Python >=3.7,<3.11; 1.6.2 Requires-Python >=3.7,<3.10; 1.6.3 Requires-Python >=3.7,<3.10; 1.7.0 Requires-Python >=3.7,<3.10; 1.7.1 Requires-Python >=3.7,<3.10; 1.7.2 Requires-Python >=3.7,<3.11; 1.7.3 Requires-Python >=3.7,<3.11; 1.8.0 Requires-Python >=3.8,<3.11; 1.8.0rc1 Requires-Python >=3.8,<3.11; 1.8.0rc2 Requires-Python >=3.8,<3.11; 1.8.0rc3 Requires-Python >=3.8,<3.11; 1.8.0rc4 Requires-Python >=3.8,<3.11; 1.8.1 Requires-Python >=3.8,<3.11; 1.9.0 Requires-Python >=3.8,<3.12; 1.9.0rc1 Requires-Python >=3.8,<3.12; 1.9.0rc2 Requires-Python >=3.8,<3.12; 1.9.0rc3 Requires-Python >=3.8,<3.12; 1.9.1 Requires-Python >=3.8,<3.12\n",
      "ERROR: Could not find a version that satisfies the requirement scipy==1.10 (from versions: 0.8.0, 0.9.0, 0.10.0, 0.10.1, 0.11.0, 0.12.0, 0.12.1, 0.13.0, 0.13.1, 0.13.2, 0.13.3, 0.14.0, 0.14.1, 0.15.0, 0.15.1, 0.16.0, 0.16.1, 0.17.0, 0.17.1, 0.18.0, 0.18.1, 0.19.0, 0.19.1, 1.0.0, 1.0.1, 1.1.0, 1.2.0, 1.2.1, 1.2.2, 1.2.3, 1.3.0, 1.3.1, 1.3.2, 1.3.3, 1.4.0, 1.4.1, 1.5.0, 1.5.1, 1.5.2, 1.5.3, 1.5.4, 1.6.0, 1.6.1, 1.9.2, 1.9.3, 1.11.0rc1, 1.11.0rc2, 1.11.1, 1.11.2, 1.11.3, 1.11.4, 1.12.0rc1, 1.12.0rc2, 1.12.0, 1.13.0rc1, 1.13.0, 1.13.1, 1.14.0rc2, 1.14.0, 1.14.1, 1.15.0rc1, 1.15.0rc2, 1.15.0, 1.15.1, 1.15.2)\n",
      "\n",
      "[notice] A new release of pip is available: 24.2 -> 25.1.1\n",
      "[notice] To update, run: python.exe -m pip install --upgrade pip\n",
      "ERROR: No matching distribution found for scipy==1.10\n"
     ]
    }
   ],
   "source": [
    "pip install numpy==2.1 scipy==1.10 numba==0.58"
   ]
  },
  {
   "cell_type": "code",
   "execution_count": 17,
   "id": "36eff295",
   "metadata": {},
   "outputs": [
    {
     "data": {
      "text/html": [
       "\n",
       "            <div>\n",
       "                <ins><a href=\"https://ydata.ai/register\">Upgrade to ydata-sdk</a></ins>\n",
       "                <p>\n",
       "                    Improve your data and profiling with ydata-sdk, featuring data quality scoring, redundancy detection, outlier identification, text validation, and synthetic data generation.\n",
       "                </p>\n",
       "            </div>\n",
       "            "
      ],
      "text/plain": [
       "<IPython.core.display.HTML object>"
      ]
     },
     "metadata": {},
     "output_type": "display_data"
    },
    {
     "name": "stderr",
     "output_type": "stream",
     "text": [
      "100%|██████████| 8/8 [00:00<00:00, 472.16it/s]0<00:00, 68.02it/s, Describe variable: Price]\n",
      "Summarize dataset: 100%|██████████| 33/33 [00:01<00:00, 19.60it/s, Completed]                   \n",
      "Generate report structure: 100%|██████████| 1/1 [00:01<00:00,  1.29s/it]\n",
      "Render HTML: 100%|██████████| 1/1 [00:00<00:00,  1.73it/s]\n",
      "Export report to file: 100%|██████████| 1/1 [00:00<00:00, 67.30it/s]"
     ]
    },
    {
     "name": "stdout",
     "output_type": "stream",
     "text": [
      "✅ EDA report generated successfully. Open 'eda_report.html' in your browser.\n"
     ]
    },
    {
     "name": "stderr",
     "output_type": "stream",
     "text": [
      "\n"
     ]
    }
   ],
   "source": [
    "import pandas as pd\n",
    "from ydata_profiling import ProfileReport\n",
    "\n",
    "# Step 1: Load dataset\n",
    "df = pd.read_csv(\"House Price Prediction Dataset.csv\")  # Replace with your actual file name\n",
    "\n",
    "# Step 2: Create the profile report\n",
    "profile = ProfileReport(df, title=\"Pandas Profiling Report\", explorative=True)\n",
    "\n",
    "# Step 3: Save report to HTML\n",
    "profile.to_file(\"eda_report.html\")\n",
    "\n",
    "print(\"✅ EDA report generated successfully. Open 'eda_report.html' in your browser.\")"
   ]
  }
 ],
 "metadata": {
  "kernelspec": {
   "display_name": "venv",
   "language": "python",
   "name": "python3"
  },
  "language_info": {
   "codemirror_mode": {
    "name": "ipython",
    "version": 3
   },
   "file_extension": ".py",
   "mimetype": "text/x-python",
   "name": "python",
   "nbconvert_exporter": "python",
   "pygments_lexer": "ipython3",
   "version": "3.12.7"
  }
 },
 "nbformat": 4,
 "nbformat_minor": 5
}
