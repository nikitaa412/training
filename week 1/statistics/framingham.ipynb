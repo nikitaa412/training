{
 "cells": [
  {
   "cell_type": "code",
   "execution_count": 13,
   "id": "fcf8a0fd",
   "metadata": {},
   "outputs": [],
   "source": [
    "import pandas as pd\n",
    "from scipy.stats import f_oneway"
   ]
  },
  {
   "cell_type": "code",
   "execution_count": 14,
   "id": "e495c973",
   "metadata": {},
   "outputs": [],
   "source": [
    "df=pd.read_csv('framingham.csv')"
   ]
  },
  {
   "cell_type": "code",
   "execution_count": 15,
   "id": "8a822314",
   "metadata": {},
   "outputs": [
    {
     "name": "stdout",
     "output_type": "stream",
     "text": [
      "              male          age    education  currentSmoker   cigsPerDay  \\\n",
      "count  4240.000000  4240.000000  4135.000000    4240.000000  4211.000000   \n",
      "mean      0.429245    49.580189     1.979444       0.494104     9.005937   \n",
      "std       0.495027     8.572942     1.019791       0.500024    11.922462   \n",
      "min       0.000000    32.000000     1.000000       0.000000     0.000000   \n",
      "25%       0.000000    42.000000     1.000000       0.000000     0.000000   \n",
      "50%       0.000000    49.000000     2.000000       0.000000     0.000000   \n",
      "75%       1.000000    56.000000     3.000000       1.000000    20.000000   \n",
      "max       1.000000    70.000000     4.000000       1.000000    70.000000   \n",
      "\n",
      "            BPMeds  prevalentStroke  prevalentHyp     diabetes      totChol  \\\n",
      "count  4187.000000      4240.000000   4240.000000  4240.000000  4190.000000   \n",
      "mean      0.029615         0.005896      0.310613     0.025708   236.699523   \n",
      "std       0.169544         0.076569      0.462799     0.158280    44.591284   \n",
      "min       0.000000         0.000000      0.000000     0.000000   107.000000   \n",
      "25%       0.000000         0.000000      0.000000     0.000000   206.000000   \n",
      "50%       0.000000         0.000000      0.000000     0.000000   234.000000   \n",
      "75%       0.000000         0.000000      1.000000     0.000000   263.000000   \n",
      "max       1.000000         1.000000      1.000000     1.000000   696.000000   \n",
      "\n",
      "             sysBP        diaBP          BMI    heartRate      glucose  \\\n",
      "count  4240.000000  4240.000000  4221.000000  4239.000000  3852.000000   \n",
      "mean    132.354599    82.897759    25.800801    75.878981    81.963655   \n",
      "std      22.033300    11.910394     4.079840    12.025348    23.954335   \n",
      "min      83.500000    48.000000    15.540000    44.000000    40.000000   \n",
      "25%     117.000000    75.000000    23.070000    68.000000    71.000000   \n",
      "50%     128.000000    82.000000    25.400000    75.000000    78.000000   \n",
      "75%     144.000000    90.000000    28.040000    83.000000    87.000000   \n",
      "max     295.000000   142.500000    56.800000   143.000000   394.000000   \n",
      "\n",
      "        TenYearCHD  \n",
      "count  4240.000000  \n",
      "mean      0.151887  \n",
      "std       0.358953  \n",
      "min       0.000000  \n",
      "25%       0.000000  \n",
      "50%       0.000000  \n",
      "75%       0.000000  \n",
      "max       1.000000  \n"
     ]
    }
   ],
   "source": [
    "print(df.describe())\n"
   ]
  },
  {
   "cell_type": "code",
   "execution_count": 23,
   "id": "51f2b89e",
   "metadata": {},
   "outputs": [],
   "source": [
    "df = pd.read_csv('framingham.csv')"
   ]
  },
  {
   "cell_type": "code",
   "execution_count": 24,
   "id": "b67380b0",
   "metadata": {},
   "outputs": [],
   "source": [
    "grouping_var = 'TenYearCHD'"
   ]
  },
  {
   "cell_type": "code",
   "execution_count": 25,
   "id": "b7c993a8",
   "metadata": {},
   "outputs": [],
   "source": [
    "df = df.dropna(subset=[grouping_var])"
   ]
  },
  {
   "cell_type": "code",
   "execution_count": 28,
   "id": "51f3318e",
   "metadata": {},
   "outputs": [],
   "source": [
    "numeric_cols = df.select_dtypes(include=['float64', 'int64']).columns\n",
    "numeric_cols = [col for col in numeric_cols if col != grouping_var]\n",
    "anova_results = {}\n",
    "for col in numeric_cols:\n",
    "    temp_df = df[[col, grouping_var]].dropna()\n",
    "    groups = [group[col].values for _, group in temp_df.groupby(grouping_var)]\n",
    "    if len(groups) >= 2:\n",
    "        f_stat, p_val = f_oneway(*groups)\n",
    "        anova_results[col] = {'F-statistic': f_stat, 'p-value': p_val}"
   ]
  },
  {
   "cell_type": "code",
   "execution_count": 30,
   "id": "f78745a5",
   "metadata": {},
   "outputs": [
    {
     "name": "stdout",
     "output_type": "stream",
     "text": [
      "                             F-statistic                p-value\n",
      "currentSmoker     1.60360502049867426066 0.20546267215543045914\n",
      "heartRate         2.22437474892724385001 0.13592208695821073050\n",
      "education        12.19888976268869207331 0.00048318916912656792\n",
      "cigsPerDay       14.08679829508054481835 0.00017691849314532078\n",
      "prevalentStroke  16.25994041140629420283 0.00005619014106121057\n",
      "BMI              24.05873092279885483435 0.00000096960562902450\n",
      "totChol          28.60790106175974401026 0.00000009334911492083\n",
      "BPMeds           32.30308314736409869283 0.00000001408768891598\n",
      "male             33.35883539677615061692 0.00000000821173517571\n",
      "diabetes         40.54304690809347988534 0.00000000021278521407\n",
      "glucose          61.69898288770554728444 0.00000000000000515123\n",
      "diaBP            91.16075853404458939622 0.00000000000000000000\n",
      "prevalentHyp    137.79910286489928239462 0.00000000000000000000\n",
      "sysBP           208.15862659911857690531 0.00000000000000000000\n",
      "age             226.85316779773827988720 0.00000000000000000000\n"
     ]
    }
   ],
   "source": [
    "anova_df = pd.DataFrame(anova_results).T.sort_values('p-value', ascending=False)\n",
    "pd.set_option('display.float_format', lambda x: f'{x:.20f}')\n",
    "print(anova_df)"
   ]
  }
 ],
 "metadata": {
  "kernelspec": {
   "display_name": "base",
   "language": "python",
   "name": "python3"
  },
  "language_info": {
   "codemirror_mode": {
    "name": "ipython",
    "version": 3
   },
   "file_extension": ".py",
   "mimetype": "text/x-python",
   "name": "python",
   "nbconvert_exporter": "python",
   "pygments_lexer": "ipython3",
   "version": "3.12.7"
  }
 },
 "nbformat": 4,
 "nbformat_minor": 5
}
