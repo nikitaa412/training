{
 "cells": [
  {
   "cell_type": "code",
   "execution_count": 2,
   "id": "f8c1ec22",
   "metadata": {},
   "outputs": [],
   "source": [
    "import pandas as pd"
   ]
  },
  {
   "cell_type": "code",
   "execution_count": 3,
   "id": "78162453",
   "metadata": {},
   "outputs": [],
   "source": [
    "df=pd.read_csv('weatherHistory.csv')"
   ]
  },
  {
   "cell_type": "code",
   "execution_count": 4,
   "id": "6af3cd88",
   "metadata": {},
   "outputs": [
    {
     "data": {
      "text/plain": [
       "Formatted Date               object\n",
       "Summary                      object\n",
       "Precip Type                  object\n",
       "Temperature (C)             float64\n",
       "Apparent Temperature (C)    float64\n",
       "Humidity                    float64\n",
       "Wind Speed (km/h)           float64\n",
       "Wind Bearing (degrees)      float64\n",
       "Visibility (km)             float64\n",
       "Loud Cover                  float64\n",
       "Pressure (millibars)        float64\n",
       "Daily Summary                object\n",
       "dtype: object"
      ]
     },
     "execution_count": 4,
     "metadata": {},
     "output_type": "execute_result"
    }
   ],
   "source": [
    "df.dtypes"
   ]
  },
  {
   "cell_type": "code",
   "execution_count": 5,
   "id": "5cb3e811",
   "metadata": {},
   "outputs": [
    {
     "data": {
      "text/plain": [
       "Summary\n",
       "Partly Cloudy                          31733\n",
       "Mostly Cloudy                          28094\n",
       "Overcast                               16597\n",
       "Clear                                  10890\n",
       "Foggy                                   7148\n",
       "Breezy and Overcast                      528\n",
       "Breezy and Mostly Cloudy                 516\n",
       "Breezy and Partly Cloudy                 386\n",
       "Dry and Partly Cloudy                     86\n",
       "Windy and Partly Cloudy                   67\n",
       "Light Rain                                63\n",
       "Breezy                                    54\n",
       "Windy and Overcast                        45\n",
       "Humid and Mostly Cloudy                   40\n",
       "Drizzle                                   39\n",
       "Breezy and Foggy                          35\n",
       "Windy and Mostly Cloudy                   35\n",
       "Dry                                       34\n",
       "Humid and Partly Cloudy                   17\n",
       "Dry and Mostly Cloudy                     14\n",
       "Rain                                      10\n",
       "Windy                                      8\n",
       "Humid and Overcast                         7\n",
       "Windy and Foggy                            4\n",
       "Windy and Dry                              1\n",
       "Dangerously Windy and Partly Cloudy        1\n",
       "Breezy and Dry                             1\n",
       "Name: count, dtype: int64"
      ]
     },
     "execution_count": 5,
     "metadata": {},
     "output_type": "execute_result"
    }
   ],
   "source": [
    "df['Summary'].value_counts()"
   ]
  },
  {
   "cell_type": "code",
   "execution_count": 6,
   "id": "e2f4cd4f",
   "metadata": {},
   "outputs": [],
   "source": [
    "df = df.drop('Formatted Date', axis=1)"
   ]
  },
  {
   "cell_type": "code",
   "execution_count": 7,
   "id": "b01b2317",
   "metadata": {},
   "outputs": [
    {
     "data": {
      "text/plain": [
       "Index(['Summary', 'Precip Type', 'Temperature (C)', 'Apparent Temperature (C)',\n",
       "       'Humidity', 'Wind Speed (km/h)', 'Wind Bearing (degrees)',\n",
       "       'Visibility (km)', 'Loud Cover', 'Pressure (millibars)',\n",
       "       'Daily Summary'],\n",
       "      dtype='object')"
      ]
     },
     "execution_count": 7,
     "metadata": {},
     "output_type": "execute_result"
    }
   ],
   "source": [
    "df.columns"
   ]
  },
  {
   "cell_type": "code",
   "execution_count": 8,
   "id": "139b4f2c",
   "metadata": {},
   "outputs": [
    {
     "data": {
      "text/plain": [
       "Summary                       0\n",
       "Precip Type                 517\n",
       "Temperature (C)               0\n",
       "Apparent Temperature (C)      0\n",
       "Humidity                      0\n",
       "Wind Speed (km/h)             0\n",
       "Wind Bearing (degrees)        0\n",
       "Visibility (km)               0\n",
       "Loud Cover                    0\n",
       "Pressure (millibars)          0\n",
       "Daily Summary                 0\n",
       "dtype: int64"
      ]
     },
     "execution_count": 8,
     "metadata": {},
     "output_type": "execute_result"
    }
   ],
   "source": [
    "df.isnull().sum() #checking for null values"
   ]
  },
  {
   "cell_type": "code",
   "execution_count": 9,
   "id": "5ff10f10",
   "metadata": {},
   "outputs": [
    {
     "data": {
      "text/plain": [
       "Daily Summary\n",
       "Mostly cloudy throughout the day.                                                                       20085\n",
       "Partly cloudy throughout the day.                                                                        9981\n",
       "Partly cloudy until night.                                                                               6169\n",
       "Partly cloudy starting in the morning.                                                                   5184\n",
       "Foggy in the morning.                                                                                    4201\n",
       "                                                                                                        ...  \n",
       "Breezy starting overnight continuing until morning and foggy overnight.                                    24\n",
       "Mostly cloudy throughout the day and breezy starting overnight continuing until afternoon.                 24\n",
       "Partly cloudy starting in the morning and breezy starting in the afternoon continuing until evening.       24\n",
       "Rain until afternoon.                                                                                      24\n",
       "Foggy starting overnight continuing until morning and breezy in the afternoon.                             23\n",
       "Name: count, Length: 214, dtype: int64"
      ]
     },
     "execution_count": 9,
     "metadata": {},
     "output_type": "execute_result"
    }
   ],
   "source": [
    "df['Daily Summary'].value_counts()"
   ]
  },
  {
   "cell_type": "code",
   "execution_count": 10,
   "id": "fea9c2b4",
   "metadata": {},
   "outputs": [
    {
     "name": "stderr",
     "output_type": "stream",
     "text": [
      "C:\\Users\\NikitaRampurkarV-Sof\\AppData\\Local\\Temp\\ipykernel_9956\\1394845228.py:2: FutureWarning: A value is trying to be set on a copy of a DataFrame or Series through chained assignment using an inplace method.\n",
      "The behavior will change in pandas 3.0. This inplace method will never work because the intermediate object on which we are setting values always behaves as a copy.\n",
      "\n",
      "For example, when doing 'df[col].method(value, inplace=True)', try using 'df.method({col: value}, inplace=True)' or df[col] = df[col].method(value) instead, to perform the operation inplace on the original object.\n",
      "\n",
      "\n",
      "  df['Precip Type'].fillna(df['Precip Type'].mode()[0], inplace=True)\n"
     ]
    }
   ],
   "source": [
    "#imputing precip type(categorical variable with mode)\n",
    "df['Precip Type'].fillna(df['Precip Type'].mode()[0], inplace=True)"
   ]
  },
  {
   "cell_type": "code",
   "execution_count": 11,
   "id": "6571b7f6",
   "metadata": {},
   "outputs": [],
   "source": [
    "#one hot encoding on categorical variables (summary, precip type, daily summary)\n",
    "df = pd.get_dummies(df, columns=['Summary', 'Precip Type', 'Daily Summary'], drop_first=True)"
   ]
  },
  {
   "cell_type": "code",
   "execution_count": 62,
   "id": "d27347db",
   "metadata": {},
   "outputs": [
    {
     "data": {
      "text/plain": [
       "Temperature (C)                             float64\n",
       "Apparent Temperature (C)                    float64\n",
       "Humidity                                    float64\n",
       "Wind Speed (km/h)                           float64\n",
       "Wind Bearing (degrees)                      float64\n",
       "                                             ...   \n",
       "Daily Summary_Partly cloudy until night.       bool\n",
       "Daily Summary_Rain throughout the day.         bool\n",
       "Daily Summary_Rain until afternoon.            bool\n",
       "Daily Summary_Rain until morning.              bool\n",
       "Daily Summary_Windy in the afternoon.          bool\n",
       "Length: 248, dtype: object"
      ]
     },
     "execution_count": 62,
     "metadata": {},
     "output_type": "execute_result"
    }
   ],
   "source": [
    "df.dtypes"
   ]
  },
  {
   "cell_type": "code",
   "execution_count": 12,
   "id": "7d720e96",
   "metadata": {},
   "outputs": [],
   "source": [
    "import numpy as np"
   ]
  },
  {
   "cell_type": "code",
   "execution_count": 65,
   "id": "47591e75",
   "metadata": {},
   "outputs": [],
   "source": [
    "numeric_cols = df.select_dtypes(include=[np.number]).columns\n",
    "for col in numeric_cols:\n",
    "    Q1 = df[col].quantile(0.25)\n",
    "    Q3 = df[col].quantile(0.75)\n",
    "    IQR = Q3 - Q1\n",
    "    lower = Q1 - 1.5 * IQR\n",
    "    upper = Q3 + 1.5 * IQR\n",
    "    df = df[(df[col] >= lower) & (df[col] <= upper)]"
   ]
  },
  {
   "cell_type": "code",
   "execution_count": 13,
   "id": "6227186a",
   "metadata": {},
   "outputs": [],
   "source": [
    "from sklearn.feature_selection import f_classif"
   ]
  },
  {
   "cell_type": "code",
   "execution_count": 14,
   "id": "567e9f1b",
   "metadata": {},
   "outputs": [
    {
     "name": "stdout",
     "output_type": "stream",
     "text": [
      "                    Feature      F-Value        P-Value\n",
      "0           Visibility (km)  2460.876815   0.000000e+00\n",
      "1         Wind Speed (km/h)  1257.932356   0.000000e+00\n",
      "2                  Humidity  1042.587182   0.000000e+00\n",
      "3           Temperature (C)   894.112610   0.000000e+00\n",
      "4  Apparent Temperature (C)   852.577028   0.000000e+00\n",
      "5      Pressure (millibars)   147.834422   0.000000e+00\n",
      "6    Wind Bearing (degrees)    30.951449  3.343886e-152\n",
      "7                Loud Cover          NaN            NaN\n"
     ]
    },
    {
     "name": "stderr",
     "output_type": "stream",
     "text": [
      "c:\\Users\\NikitaRampurkarV-Sof\\anaconda3\\Lib\\site-packages\\sklearn\\feature_selection\\_univariate_selection.py:112: UserWarning: Features [6] are constant.\n",
      "  warnings.warn(\"Features %s are constant.\" % constant_features_idx, UserWarning)\n",
      "c:\\Users\\NikitaRampurkarV-Sof\\anaconda3\\Lib\\site-packages\\sklearn\\feature_selection\\_univariate_selection.py:113: RuntimeWarning: invalid value encountered in divide\n",
      "  f = msb / msw\n"
     ]
    }
   ],
   "source": [
    "# Reload the original target variable 'Summary'\n",
    "original_data = pd.read_csv('weatherHistory.csv')\n",
    "target = original_data['Summary'].loc[df.index]  # Align with current df after outlier removal\n",
    "\n",
    "# Convert target to categorical numeric codes\n",
    "y = target.astype('category').cat.codes\n",
    "\n",
    "# Select only numerical features (including one-hot encoded ones)\n",
    "X = df.select_dtypes(include=[np.number])\n",
    "\n",
    "# Perform ANOVA F-test\n",
    "f_values, p_values = f_classif(X, y)\n",
    "\n",
    "# Create a DataFrame with results\n",
    "anova_results = pd.DataFrame({\n",
    "    'Feature': X.columns,\n",
    "    'F-Value': f_values,\n",
    "    'P-Value': p_values\n",
    "}).sort_values(by='F-Value', ascending=False).reset_index(drop=True)\n",
    "\n",
    "# ✅ Display all features\n",
    "print(anova_results)\n"
   ]
  },
  {
   "cell_type": "code",
   "execution_count": 15,
   "id": "8febc88c",
   "metadata": {},
   "outputs": [
    {
     "name": "stdout",
     "output_type": "stream",
     "text": [
      "Selected 7 features with p-value ≤ 0.05.\n"
     ]
    }
   ],
   "source": [
    "# Keep only features with p-value ≤ 0.05\n",
    "significant_features = anova_results[anova_results['P-Value'] <= 0.05]['Feature'].tolist()\n",
    "\n",
    "# Filter the original DataFrame to keep only those features\n",
    "df = df[significant_features]\n",
    "\n",
    "# Now, df contains only statistically significant features\n",
    "print(f\"Selected {len(significant_features)} features with p-value ≤ 0.05.\")\n"
   ]
  },
  {
   "cell_type": "code",
   "execution_count": 20,
   "id": "81abf77f",
   "metadata": {},
   "outputs": [
    {
     "name": "stdout",
     "output_type": "stream",
     "text": [
      "Before SMOTE: Counter({19: 31733, 17: 28094, 18: 16597, 6: 10890, 12: 7148, 4: 528, 3: 516, 5: 386, 11: 86, 26: 67, 16: 63, 0: 54, 25: 45, 13: 40, 8: 39, 2: 35, 24: 35, 9: 34, 15: 17, 10: 14, 20: 10, 21: 8, 14: 7})\n",
      "After SMOTE: Counter({19: 31733, 17: 31733, 18: 31733, 12: 31733, 3: 31733, 6: 31733, 5: 31733, 4: 31733, 13: 31733, 15: 31733, 25: 31733, 2: 31733, 26: 31733, 0: 31733, 11: 31733, 24: 31733, 9: 31733, 21: 31733, 14: 31733, 16: 31733, 8: 31733, 10: 31733, 20: 31733})\n"
     ]
    }
   ],
   "source": [
    "from collections import Counter\n",
    "\n",
    "# Count class instances\n",
    "class_counts = Counter(y)\n",
    "# Keep only classes with at least 6 samples\n",
    "valid_classes = [cls for cls, count in class_counts.items() if count >= 6]\n",
    "\n",
    "# Filter X and y\n",
    "valid_indices = [i for i, label in enumerate(y) if label in valid_classes]\n",
    "X_filtered = X.iloc[valid_indices]\n",
    "y_filtered = y[valid_indices]\n",
    "\n",
    "# Apply SMOTE\n",
    "smote = SMOTE(random_state=42)\n",
    "X_resampled, y_resampled = smote.fit_resample(X_filtered, y_filtered)\n",
    "\n",
    "# Decode labels if needed\n",
    "y_resampled_labels = le.inverse_transform(y_resampled)\n",
    "\n",
    "print(\"Before SMOTE:\", Counter(y_filtered))\n",
    "print(\"After SMOTE:\", Counter(y_resampled))"
   ]
  },
  {
   "cell_type": "code",
   "execution_count": null,
   "id": "b3b973f5",
   "metadata": {},
   "outputs": [
    {
     "data": {
      "text/plain": [
       "'preprocessed_weather_data.csv'"
      ]
     },
     "execution_count": 21,
     "metadata": {},
     "output_type": "execute_result"
    }
   ],
   "source": [
    "import pandas as pd\n",
    "\n",
    "# Assuming X_resampled and y_resampled_labels are already defined from SMOTE step\n",
    "# Combine the features and target back into a single DataFrame\n",
    "df_resampled = X_resampled.copy()\n",
    "df_resampled['Summary'] = y_resampled_labels  # Add the target column back\n",
    "\n",
    "# Save to CSV\n",
    "output_path = \"preprocessed_weather_data.csv\"\n",
    "df_resampled.to_csv(output_path, index=False)"
   ]
  }
 ],
 "metadata": {
  "kernelspec": {
   "display_name": "base",
   "language": "python",
   "name": "python3"
  },
  "language_info": {
   "codemirror_mode": {
    "name": "ipython",
    "version": 3
   },
   "file_extension": ".py",
   "mimetype": "text/x-python",
   "name": "python",
   "nbconvert_exporter": "python",
   "pygments_lexer": "ipython3",
   "version": "3.12.7"
  }
 },
 "nbformat": 4,
 "nbformat_minor": 5
}
