{
 "cells": [
  {
   "cell_type": "code",
   "execution_count": 6,
   "id": "c5bb6892",
   "metadata": {},
   "outputs": [],
   "source": [
    "from pathlib import Path"
   ]
  },
  {
   "cell_type": "code",
   "execution_count": 7,
   "id": "5d755d40",
   "metadata": {},
   "outputs": [],
   "source": [
    "file_path = \"transportation_test_text.txt\"  # Replace with your actual file path\n",
    "text = Path(file_path).read_text(encoding=\"utf-8\")"
   ]
  },
  {
   "cell_type": "code",
   "execution_count": 8,
   "id": "674793ee",
   "metadata": {},
   "outputs": [
    {
     "name": "stdout",
     "output_type": "stream",
     "text": [
      "The invention of the wheel revolutionized human movement. American whole magazine truth stop whose. On traditional measure example sense peace. Would mouth relate own chair. Role together range line. Government first policy daughter.\n",
      "\n",
      "Governments worldwide are investing in infrastructure to support new transport methods. Kind miss artist truth trouble behavior style. Ability management test during foot that course nothing. Sound central myself before year. Your majority feeling fact by four two.\n"
     ]
    }
   ],
   "source": [
    "print(text[:500])"
   ]
  },
  {
   "cell_type": "code",
   "execution_count": 9,
   "id": "c90030db",
   "metadata": {},
   "outputs": [],
   "source": [
    "from langchain.text_splitter import RecursiveCharacterTextSplitter"
   ]
  },
  {
   "cell_type": "code",
   "execution_count": 10,
   "id": "db7899ff",
   "metadata": {},
   "outputs": [],
   "source": [
    "text_splitter = RecursiveCharacterTextSplitter(\n",
    "    chunk_size=500,\n",
    "    chunk_overlap=100\n",
    ")\n",
    " \n",
    "chunks = text_splitter.split_text(text)"
   ]
  },
  {
   "cell_type": "code",
   "execution_count": 11,
   "id": "875c8264",
   "metadata": {},
   "outputs": [
    {
     "name": "stdout",
     "output_type": "stream",
     "text": [
      "Total chunks: 376\n",
      "The invention of the wheel revolutionized human movement. American whole magazine truth stop whose. On traditional measure example sense peace. Would mouth relate own chair. Role together range line. Government first policy daughter.\n"
     ]
    }
   ],
   "source": [
    "print(f\"Total chunks: {len(chunks)}\")\n",
    "print(chunks[0])"
   ]
  },
  {
   "cell_type": "code",
   "execution_count": 13,
   "id": "51a56cdd",
   "metadata": {},
   "outputs": [],
   "source": [
    "import requests"
   ]
  },
  {
   "cell_type": "code",
   "execution_count": 14,
   "id": "9180596f",
   "metadata": {},
   "outputs": [
    {
     "name": "stdout",
     "output_type": "stream",
     "text": [
      "Got 376 embeddings\n"
     ]
    }
   ],
   "source": [
    "url = \"http://localhost:11434/v1/embeddings\"\n",
    "model_name = \"mxbai-embed-large:latest\"\n",
    " \n",
    "response = requests.post(\n",
    "    url,\n",
    "    json={\n",
    "        \"model\": model_name,\n",
    "        \"input\": chunks\n",
    "    }\n",
    ")\n",
    " \n",
    "response.raise_for_status()\n",
    "embeddings = response.json()[\"data\"]\n",
    "print(f\"Got {len(embeddings)} embeddings\")"
   ]
  },
  {
   "cell_type": "code",
   "execution_count": 15,
   "id": "b65c6e1d",
   "metadata": {},
   "outputs": [
    {
     "name": "stdout",
     "output_type": "stream",
     "text": [
      "First embedding length: 1024\n"
     ]
    }
   ],
   "source": [
    "vectors = [item[\"embedding\"] for item in embeddings]\n",
    "print(f\"First embedding length: {len(vectors[0])}\")"
   ]
  },
  {
   "cell_type": "code",
   "execution_count": 16,
   "id": "e052b83c",
   "metadata": {},
   "outputs": [],
   "source": [
    "from langchain.schema import Document\n",
    "documents = [Document(page_content=chunk) for chunk in chunks]"
   ]
  },
  {
   "cell_type": "code",
   "execution_count": 17,
   "id": "98603ac4",
   "metadata": {},
   "outputs": [
    {
     "name": "stdout",
     "output_type": "stream",
     "text": [
      "✅ Saved embeddings to Chroma at ./chroma_db\n"
     ]
    },
    {
     "name": "stderr",
     "output_type": "stream",
     "text": [
      "C:\\Users\\NikitaRampurkarV-Sof\\AppData\\Local\\Temp\\ipykernel_4600\\2913590073.py:21: LangChainDeprecationWarning: Since Chroma 0.4.x the manual persistence method is no longer supported as docs are automatically persisted.\n",
      "  db.persist()\n"
     ]
    }
   ],
   "source": [
    "from langchain.vectorstores import Chroma\n",
    "from langchain.embeddings.base import Embeddings\n",
    "from langchain.schema import Document\n",
    " \n",
    "# Step 1: Dummy embedding class to return precomputed vectors\n",
    "class DummyEmbeddings(Embeddings):\n",
    "    def embed_documents(self, texts):\n",
    "        return vectors  # Precomputed embeddings\n",
    " \n",
    "    def embed_query(self, text):\n",
    "        return vectors[0]  # Just a placeholder for compatibility\n",
    " \n",
    "# Step 2: Initialize Chroma DB using precomputed vectors\n",
    "db = Chroma.from_documents(\n",
    "    documents=documents,\n",
    "    embedding=DummyEmbeddings(),\n",
    "    persist_directory=\"chroma_db\"\n",
    ")\n",
    " \n",
    "# Step 3: Persist the DB to disk\n",
    "db.persist()\n",
    "print(\"✅ Saved embeddings to Chroma at ./chroma_db\")"
   ]
  },
  {
   "cell_type": "code",
   "execution_count": 18,
   "id": "3eb8d9c4",
   "metadata": {},
   "outputs": [
    {
     "name": "stdout",
     "output_type": "stream",
     "text": [
      "376\n"
     ]
    }
   ],
   "source": [
    "print(len(embeddings))"
   ]
  },
  {
   "cell_type": "code",
   "execution_count": 19,
   "id": "b4ebe127",
   "metadata": {},
   "outputs": [
    {
     "name": "stdout",
     "output_type": "stream",
     "text": [
      "376\n"
     ]
    }
   ],
   "source": [
    "print(len(chunks))"
   ]
  }
 ],
 "metadata": {
  "kernelspec": {
   "display_name": "base",
   "language": "python",
   "name": "python3"
  },
  "language_info": {
   "codemirror_mode": {
    "name": "ipython",
    "version": 3
   },
   "file_extension": ".py",
   "mimetype": "text/x-python",
   "name": "python",
   "nbconvert_exporter": "python",
   "pygments_lexer": "ipython3",
   "version": "3.12.7"
  }
 },
 "nbformat": 4,
 "nbformat_minor": 5
}
